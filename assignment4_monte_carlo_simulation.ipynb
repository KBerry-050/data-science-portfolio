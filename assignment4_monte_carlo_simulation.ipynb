{
 "cells": [
  {
   "cell_type": "code",
   "execution_count": 1,
   "metadata": {},
   "outputs": [],
   "source": [
    "import numpy as np\n",
    "import pandas as pd\n",
    "import random\n",
    "import matplotlib.pyplot as plt\n",
    "import math"
   ]
  },
  {
   "cell_type": "code",
   "execution_count": 2,
   "metadata": {},
   "outputs": [],
   "source": [
    "# parameters\n",
    "starting_tank = 10000\n",
    "max_tank = 25000\n",
    "roof_capture_per_inch_rain = 1860      #    3000 sq ft * 0.62 assuming 12\" depth  https://www.surfrider.org/coastal-blog/entry/calculate-rainwater-harvesting-potential-area-needed-to-absorb-it \n",
    "exp_lambda = 0.4261                    # lambda for exponential distribution that fits monthly rainfall"
   ]
  },
  {
   "cell_type": "code",
   "execution_count": 4,
   "metadata": {},
   "outputs": [],
   "source": [
    "min_levels = []\n",
    "\n",
    "water_df = pd.DataFrame(columns = ['month', 'ending_water_level', 'month_rainfall', 'rain_harvested', 'water_used', 'rainfall_capture_eff_pct', 'random_num'])\n",
    "\n",
    "sim_months = 360\n",
    "\n",
    "for i in range(1000):             # 1000 simulations of 360 months\n",
    "    water_df = pd.DataFrame(columns = ['month', 'ending_water_level', 'month_rainfall', 'rain_harvested', 'water_used', 'rainfall_capture_eff_pct', 'random_num'])\n",
    "\n",
    "    for j in range(0, sim_months):                                    # run a simulation for 30 years\n",
    "        \n",
    "        ran_num = random.random()                                     # random number between 0 and 1\n",
    "        month_rainfall = -(1/exp_lambda) * (math.log(ran_num))                 # exponential distribution, lambda is 0.4261\n",
    "        \n",
    "        rainfall_capture_eff_pct = 0.9 + ((8*(1-ran_num))/100)             # capture efficiency varies from 90-98% based on severity of downfall\n",
    "        rain_harvested = month_rainfall * roof_capture_per_inch_rain * rainfall_capture_eff_pct # how much rain * how much water captured on roof * efficiency of capture between 90-98%\n",
    "\n",
    "        water_used = random.uniform(4000,5200)                        # monthly water usage is random between 4000 and 5200\n",
    "\n",
    "        if j == 0:                                                    # first month water level at 10000\n",
    "            starting_water_level = starting_tank\n",
    "        if j > 0:\n",
    "            starting_water_level = water_df.iloc[- 1, 1]                 # future months water level begins at last month's level\n",
    "\n",
    "        ending_water_level = starting_water_level + rain_harvested - water_used    \n",
    "\n",
    "        if ending_water_level < 0:                                    # water level can't go below 0\n",
    "            ending_water_level = 0\n",
    "        if ending_water_level > 25000:                                # water level can't go above 25,000. No penalty for hitting 25,000\n",
    "            ending_water_level = 25000\n",
    "        water_df.loc[i] = [ j + 1, ending_water_level, month_rainfall, rain_harvested, water_used, rainfall_capture_eff_pct, ran_num]\n",
    "    min_levels.append(water_df['ending_water_level'].min())\n"
   ]
  },
  {
   "cell_type": "code",
   "execution_count": 5,
   "metadata": {},
   "outputs": [
    {
     "name": "stdout",
     "output_type": "stream",
     "text": [
      "0.0\n",
      "8747.218198240016\n",
      "25000.0\n"
     ]
    }
   ],
   "source": [
    "print(min(min_levels))\n",
    "print(sum(min_levels)/len(min_levels))\n",
    "print(max(min_levels))"
   ]
  },
  {
   "cell_type": "code",
   "execution_count": null,
   "metadata": {},
   "outputs": [],
   "source": []
  }
 ],
 "metadata": {
  "kernelspec": {
   "display_name": "Python 3",
   "language": "python",
   "name": "python3"
  },
  "language_info": {
   "codemirror_mode": {
    "name": "ipython",
    "version": 3
   },
   "file_extension": ".py",
   "mimetype": "text/x-python",
   "name": "python",
   "nbconvert_exporter": "python",
   "pygments_lexer": "ipython3",
   "version": "3.8.5"
  }
 },
 "nbformat": 4,
 "nbformat_minor": 5
}
