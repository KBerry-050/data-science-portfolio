{
  "cells": [
    {
      "cell_type": "markdown",
      "metadata": {
        "id": "view-in-github",
        "colab_type": "text"
      },
      "source": [
        "<a href=\"https://colab.research.google.com/github/KBerry-050/data-science-portfolio/blob/main/Module_6_Assignment_Berry.ipynb\" target=\"_parent\"><img src=\"https://colab.research.google.com/assets/colab-badge.svg\" alt=\"Open In Colab\"/></a>"
      ]
    },
    {
      "cell_type": "code",
      "execution_count": null,
      "metadata": {
        "id": "QZtNbpHj13GQ"
      },
      "outputs": [],
      "source": [
        "# import libraries for EDA and visualization\n",
        "import pandas as pd\n",
        "import numpy as np\n",
        "from numpy import mean, absolute, sqrt, arange\n",
        "import matplotlib.pyplot as plt\n",
        "import seaborn as sns\n",
        "sns.set_style('darkgrid')"
      ]
    },
    {
      "cell_type": "markdown",
      "source": [
        "# INGEST"
      ],
      "metadata": {
        "id": "891EKIkF15nK"
      }
    },
    {
      "cell_type": "code",
      "execution_count": null,
      "metadata": {
        "id": "rWjk98e313GU"
      },
      "outputs": [],
      "source": [
        "# INGEST TRAIN AND TEST DATASETS\n",
        "train = pd.read_csv('train.csv')\n",
        "train = pd.DataFrame(train)\n",
        "\n",
        "test = pd.read_csv('test.csv')\n",
        "test = pd.DataFrame(test)"
      ]
    },
    {
      "cell_type": "code",
      "execution_count": null,
      "metadata": {
        "id": "2YjgIkUG13GV",
        "outputId": "db030fa1-216f-4c6f-beb5-4752e7da8f7b"
      },
      "outputs": [
        {
          "data": {
            "text/html": [
              "<div>\n",
              "<style scoped>\n",
              "    .dataframe tbody tr th:only-of-type {\n",
              "        vertical-align: middle;\n",
              "    }\n",
              "\n",
              "    .dataframe tbody tr th {\n",
              "        vertical-align: top;\n",
              "    }\n",
              "\n",
              "    .dataframe thead th {\n",
              "        text-align: right;\n",
              "    }\n",
              "</style>\n",
              "<table border=\"1\" class=\"dataframe\">\n",
              "  <thead>\n",
              "    <tr style=\"text-align: right;\">\n",
              "      <th></th>\n",
              "      <th>label</th>\n",
              "      <th>pixel0</th>\n",
              "      <th>pixel1</th>\n",
              "      <th>pixel2</th>\n",
              "      <th>pixel3</th>\n",
              "      <th>pixel4</th>\n",
              "      <th>pixel5</th>\n",
              "      <th>pixel6</th>\n",
              "      <th>pixel7</th>\n",
              "      <th>pixel8</th>\n",
              "      <th>...</th>\n",
              "      <th>pixel774</th>\n",
              "      <th>pixel775</th>\n",
              "      <th>pixel776</th>\n",
              "      <th>pixel777</th>\n",
              "      <th>pixel778</th>\n",
              "      <th>pixel779</th>\n",
              "      <th>pixel780</th>\n",
              "      <th>pixel781</th>\n",
              "      <th>pixel782</th>\n",
              "      <th>pixel783</th>\n",
              "    </tr>\n",
              "  </thead>\n",
              "  <tbody>\n",
              "    <tr>\n",
              "      <th>0</th>\n",
              "      <td>1</td>\n",
              "      <td>0</td>\n",
              "      <td>0</td>\n",
              "      <td>0</td>\n",
              "      <td>0</td>\n",
              "      <td>0</td>\n",
              "      <td>0</td>\n",
              "      <td>0</td>\n",
              "      <td>0</td>\n",
              "      <td>0</td>\n",
              "      <td>...</td>\n",
              "      <td>0</td>\n",
              "      <td>0</td>\n",
              "      <td>0</td>\n",
              "      <td>0</td>\n",
              "      <td>0</td>\n",
              "      <td>0</td>\n",
              "      <td>0</td>\n",
              "      <td>0</td>\n",
              "      <td>0</td>\n",
              "      <td>0</td>\n",
              "    </tr>\n",
              "    <tr>\n",
              "      <th>1</th>\n",
              "      <td>0</td>\n",
              "      <td>0</td>\n",
              "      <td>0</td>\n",
              "      <td>0</td>\n",
              "      <td>0</td>\n",
              "      <td>0</td>\n",
              "      <td>0</td>\n",
              "      <td>0</td>\n",
              "      <td>0</td>\n",
              "      <td>0</td>\n",
              "      <td>...</td>\n",
              "      <td>0</td>\n",
              "      <td>0</td>\n",
              "      <td>0</td>\n",
              "      <td>0</td>\n",
              "      <td>0</td>\n",
              "      <td>0</td>\n",
              "      <td>0</td>\n",
              "      <td>0</td>\n",
              "      <td>0</td>\n",
              "      <td>0</td>\n",
              "    </tr>\n",
              "    <tr>\n",
              "      <th>2</th>\n",
              "      <td>1</td>\n",
              "      <td>0</td>\n",
              "      <td>0</td>\n",
              "      <td>0</td>\n",
              "      <td>0</td>\n",
              "      <td>0</td>\n",
              "      <td>0</td>\n",
              "      <td>0</td>\n",
              "      <td>0</td>\n",
              "      <td>0</td>\n",
              "      <td>...</td>\n",
              "      <td>0</td>\n",
              "      <td>0</td>\n",
              "      <td>0</td>\n",
              "      <td>0</td>\n",
              "      <td>0</td>\n",
              "      <td>0</td>\n",
              "      <td>0</td>\n",
              "      <td>0</td>\n",
              "      <td>0</td>\n",
              "      <td>0</td>\n",
              "    </tr>\n",
              "    <tr>\n",
              "      <th>3</th>\n",
              "      <td>4</td>\n",
              "      <td>0</td>\n",
              "      <td>0</td>\n",
              "      <td>0</td>\n",
              "      <td>0</td>\n",
              "      <td>0</td>\n",
              "      <td>0</td>\n",
              "      <td>0</td>\n",
              "      <td>0</td>\n",
              "      <td>0</td>\n",
              "      <td>...</td>\n",
              "      <td>0</td>\n",
              "      <td>0</td>\n",
              "      <td>0</td>\n",
              "      <td>0</td>\n",
              "      <td>0</td>\n",
              "      <td>0</td>\n",
              "      <td>0</td>\n",
              "      <td>0</td>\n",
              "      <td>0</td>\n",
              "      <td>0</td>\n",
              "    </tr>\n",
              "    <tr>\n",
              "      <th>4</th>\n",
              "      <td>0</td>\n",
              "      <td>0</td>\n",
              "      <td>0</td>\n",
              "      <td>0</td>\n",
              "      <td>0</td>\n",
              "      <td>0</td>\n",
              "      <td>0</td>\n",
              "      <td>0</td>\n",
              "      <td>0</td>\n",
              "      <td>0</td>\n",
              "      <td>...</td>\n",
              "      <td>0</td>\n",
              "      <td>0</td>\n",
              "      <td>0</td>\n",
              "      <td>0</td>\n",
              "      <td>0</td>\n",
              "      <td>0</td>\n",
              "      <td>0</td>\n",
              "      <td>0</td>\n",
              "      <td>0</td>\n",
              "      <td>0</td>\n",
              "    </tr>\n",
              "  </tbody>\n",
              "</table>\n",
              "<p>5 rows × 785 columns</p>\n",
              "</div>"
            ],
            "text/plain": [
              "   label  pixel0  pixel1  pixel2  pixel3  pixel4  pixel5  pixel6  pixel7  \\\n",
              "0      1       0       0       0       0       0       0       0       0   \n",
              "1      0       0       0       0       0       0       0       0       0   \n",
              "2      1       0       0       0       0       0       0       0       0   \n",
              "3      4       0       0       0       0       0       0       0       0   \n",
              "4      0       0       0       0       0       0       0       0       0   \n",
              "\n",
              "   pixel8  ...  pixel774  pixel775  pixel776  pixel777  pixel778  pixel779  \\\n",
              "0       0  ...         0         0         0         0         0         0   \n",
              "1       0  ...         0         0         0         0         0         0   \n",
              "2       0  ...         0         0         0         0         0         0   \n",
              "3       0  ...         0         0         0         0         0         0   \n",
              "4       0  ...         0         0         0         0         0         0   \n",
              "\n",
              "   pixel780  pixel781  pixel782  pixel783  \n",
              "0         0         0         0         0  \n",
              "1         0         0         0         0  \n",
              "2         0         0         0         0  \n",
              "3         0         0         0         0  \n",
              "4         0         0         0         0  \n",
              "\n",
              "[5 rows x 785 columns]"
            ]
          },
          "execution_count": 9,
          "metadata": {},
          "output_type": "execute_result"
        }
      ],
      "source": [
        "# explore train data\n",
        "train.head()"
      ]
    },
    {
      "cell_type": "code",
      "execution_count": null,
      "metadata": {
        "id": "Icy_w_0R13GW",
        "outputId": "b343e4ef-18dd-40e7-9b9d-94cb8aee44d6"
      },
      "outputs": [
        {
          "data": {
            "text/plain": [
              "label       0\n",
              "pixel0      0\n",
              "pixel1      0\n",
              "pixel2      0\n",
              "pixel3      0\n",
              "           ..\n",
              "pixel779    0\n",
              "pixel780    0\n",
              "pixel781    0\n",
              "pixel782    0\n",
              "pixel783    0\n",
              "Length: 785, dtype: int64"
            ]
          },
          "execution_count": 13,
          "metadata": {},
          "output_type": "execute_result"
        }
      ],
      "source": [
        "# check for null values\n",
        "train.isnull().sum()"
      ]
    },
    {
      "cell_type": "code",
      "execution_count": null,
      "metadata": {
        "id": "soudyRpU13GW"
      },
      "outputs": [],
      "source": [
        "# identify explanatory and response variables\n",
        "x = train.drop(['label'], axis = 1)\n",
        "y = train['label']\n",
        "\n",
        "# normalize image data for pixel values\n",
        "x /= 255\n",
        "holdout = test/255"
      ]
    },
    {
      "cell_type": "markdown",
      "source": [
        "# MODELING"
      ],
      "metadata": {
        "id": "ZZIH9B8M2Gdh"
      }
    },
    {
      "cell_type": "code",
      "execution_count": null,
      "metadata": {
        "id": "kDWdys1Y13GY"
      },
      "outputs": [],
      "source": [
        "# import libraries for modeling\n",
        "from sklearn.model_selection import train_test_split, cross_val_score, GridSearchCV, StratifiedKFold, RandomizedSearchCV\n",
        "from sklearn.metrics import confusion_matrix, classification_report, accuracy_score\n",
        "from sklearn.ensemble import RandomForestClassifier\n",
        "from sklearn.cluster import KMeans, MiniBatchKMeans\n",
        "from sklearn.pipeline import Pipeline\n",
        "from sklearn.decomposition import PCA\n",
        "from sklearn.manifold import TSNE\n",
        "import datetime"
      ]
    },
    {
      "cell_type": "code",
      "execution_count": null,
      "metadata": {
        "id": "-2tQiSnC13GY"
      },
      "outputs": [],
      "source": [
        "# split into train and test sets\n",
        "x_train, x_test, y_train, y_test = train_test_split(x,y,test_size=0.2)"
      ]
    },
    {
      "cell_type": "code",
      "execution_count": null,
      "metadata": {
        "id": "13imCf2113GZ"
      },
      "outputs": [],
      "source": [
        "# create function for cross val scoring\n",
        "def cross_val(model, x_train, y_train):\n",
        "    start = datetime.datetime.now()\n",
        "    kfold = StratifiedKFold(n_splits=7,shuffle=True)\n",
        "    cv = cross_val_score(model, x_train, y_train, cv=kfold)\n",
        "    end = datetime.datetime.now()\n",
        "    print(f'Cross Val Score: {cv.mean().round(3)} ± {cv.std().round(3)} // Time: {end-start}')"
      ]
    },
    {
      "cell_type": "code",
      "execution_count": null,
      "metadata": {
        "id": "Hkq4zeps13Ga"
      },
      "outputs": [],
      "source": [
        "# create function for model fitting\n",
        "def model_fit(model, x_train, y_train, x_test, y_test):\n",
        "    start = datetime.datetime.now()\n",
        "    model.fit(x_train, y_train)\n",
        "    end = datetime.datetime.now()\n",
        "    print(f'OOB Score: {model.oob_score_}')\n",
        "    print(f'Test Score: {model.score(x_test, y_test)}')\n",
        "    print(f'Training Time: {end-start}')\n",
        "    return model"
      ]
    },
    {
      "cell_type": "code",
      "execution_count": null,
      "metadata": {
        "id": "-QzDm6EB13Ga",
        "outputId": "70dd693c-edcb-4635-c019-62913b727584"
      },
      "outputs": [
        {
          "name": "stdout",
          "output_type": "stream",
          "text": [
            "Cross Val Score: 0.962 ± 0.002 // Time: 0:01:39.619164\n"
          ]
        }
      ],
      "source": [
        "# create random forest classifier model\n",
        "rf = RandomForestClassifier(oob_score=True, n_estimators=100)\n",
        "cross_val(rf, x_train, y_train)"
      ]
    },
    {
      "cell_type": "code",
      "execution_count": null,
      "metadata": {
        "id": "XE-b3IkA13Ga",
        "outputId": "fe1623fa-fee2-4e16-dbbe-d1c53f9185a7"
      },
      "outputs": [
        {
          "name": "stdout",
          "output_type": "stream",
          "text": [
            "OOB Score: 0.9596428571428571\n",
            "Test Score: 0.9646428571428571\n",
            "Training Time: 0:00:16.617528\n"
          ]
        }
      ],
      "source": [
        "# fit rf model\n",
        "rf = model_fit(rf, x_train, y_train, x_test, y_test)"
      ]
    },
    {
      "cell_type": "code",
      "execution_count": null,
      "metadata": {
        "id": "wlDBHylC13Gb"
      },
      "outputs": [],
      "source": [
        "# make predictions on test dataset\n",
        "rf_pred = rf.predict(x_test)\n",
        "rf_pred = pd.DataFrame(rf_pred, columns=['Predictions'])\n",
        "rf_pred[\"Target\"] = list(y_test)"
      ]
    },
    {
      "cell_type": "code",
      "execution_count": null,
      "metadata": {
        "id": "tQ56emmA13Gb",
        "outputId": "afc15639-200b-4036-a8b0-e68d7c080855"
      },
      "outputs": [
        {
          "name": "stdout",
          "output_type": "stream",
          "text": [
            "              precision    recall  f1-score   support\n",
            "\n",
            "           0       0.97      0.99      0.98       818\n",
            "           1       0.98      0.99      0.98       897\n",
            "           2       0.97      0.97      0.97       839\n",
            "           3       0.96      0.95      0.95       826\n",
            "           4       0.95      0.97      0.96       812\n",
            "           5       0.98      0.95      0.97       783\n",
            "           6       0.97      0.97      0.97       847\n",
            "           7       0.97      0.97      0.97       864\n",
            "           8       0.95      0.96      0.96       832\n",
            "           9       0.94      0.93      0.94       882\n",
            "\n",
            "    accuracy                           0.96      8400\n",
            "   macro avg       0.96      0.96      0.96      8400\n",
            "weighted avg       0.96      0.96      0.96      8400\n",
            "\n"
          ]
        }
      ],
      "source": [
        "# specify targets and create a classification report\n",
        "targets = ['0','1','2','3','4','5','6','7','8','9',]\n",
        "print(classification_report(rf_pred['Target'], rf_pred['Predictions'], target_names=targets))"
      ]
    },
    {
      "cell_type": "code",
      "execution_count": null,
      "metadata": {
        "id": "8JvtrA1N13Gb"
      },
      "outputs": [],
      "source": [
        "# export csv of predictions\n",
        "rf_pred = rf.predict(holdout)\n",
        "rf_pred = pd.Series(rf_pred, name=\"Label\")\n",
        "\n",
        "digit_recognizer_rf = pd.concat([pd.Series(range(len(holdout)), name = \"ImageId\"), rf_pred], axis=1)\n",
        "digit_recognizer_rf['ImageId'] = digit_recognizer_rf['ImageId']+1\n",
        "digit_recognizer_rf.to_csv(r'/Users/kyleberry/Documents/MSDS-422/Module 6/Module 6 Assignment/digit_recognizer_rf.csv', index=False)"
      ]
    },
    {
      "cell_type": "code",
      "execution_count": null,
      "metadata": {
        "id": "6K9S_Yia13Gc"
      },
      "outputs": [],
      "source": [
        "# perform PCA on train dataset\n",
        "pca = PCA()\n",
        "pca = pca.fit(x_train)"
      ]
    },
    {
      "cell_type": "code",
      "execution_count": null,
      "metadata": {
        "id": "fpalNlVg13Gc"
      },
      "outputs": [],
      "source": [
        "# set variance threshold - need to represent 95% of the variability\n",
        "variance = pca.explained_variance_ratio_\n",
        "cum_variance = np.cumsum(variance)\n",
        "num_components = np.argmax(cum_variance >= .95) +1"
      ]
    },
    {
      "cell_type": "code",
      "execution_count": null,
      "metadata": {
        "id": "b11mDySd13Gc",
        "outputId": "06afe410-d65d-49f4-bad8-08a7b417cdba"
      },
      "outputs": [
        {
          "data": {
            "text/plain": [
              "Text(0.5, 1.0, 'Component vs Cumulative Variance Explained')"
            ]
          },
          "execution_count": 50,
          "metadata": {},
          "output_type": "execute_result"
        },
        {
          "data": {
            "image/png": "[encoded data removed]",
            "text/plain": [
              "<Figure size 648x504 with 1 Axes>"
            ]
          },
          "metadata": {},
          "output_type": "display_data"
        }
      ],
      "source": [
        "# plot variance\n",
        "plt.figure(figsize=(9,7))\n",
        "\n",
        "component_number = range(len(cum_variance))\n",
        "plt.plot(component_number, cum_variance, lw=3)\n",
        "\n",
        "plt.axhline(y=0, linewidth=1, color='grey', ls='dashed')\n",
        "plt.axhline(y=1, linewidth=1, color='grey', ls='dashed')\n",
        "\n",
        "# Set the x and y axis limits\n",
        "ax = plt.gca()\n",
        "ax.set_xlim([-1,len(cum_variance)])\n",
        "ax.set_ylim([-0.05,1.05])\n",
        "ax.set_ylabel('Cumulative Variance Explained', fontsize=16)\n",
        "ax.set_xlabel('Number of Components', fontsize=16)\n",
        "ax.set_title('Component vs Cumulative Variance Explained', fontsize=15)"
      ]
    },
    {
      "cell_type": "code",
      "execution_count": null,
      "metadata": {
        "id": "hP6kwyHy13Gc"
      },
      "outputs": [],
      "source": [
        "# apply PCA to a new train and test set\n",
        "pca = PCA(n_components = num_components)\n",
        "z_train = pca.fit_transform(x_train)\n",
        "z_test = pca.transform(x_test)"
      ]
    },
    {
      "cell_type": "code",
      "execution_count": null,
      "metadata": {
        "id": "PG_hjzrf13Gc",
        "outputId": "7b52df24-96df-4f9c-9985-e2eb25c21a32"
      },
      "outputs": [
        {
          "data": {
            "text/plain": [
              "(33600, 153)"
            ]
          },
          "execution_count": 55,
          "metadata": {},
          "output_type": "execute_result"
        }
      ],
      "source": [
        "# check shape\n",
        "z_train.shape"
      ]
    },
    {
      "cell_type": "code",
      "execution_count": null,
      "metadata": {
        "id": "D3LUlTP613Gd",
        "outputId": "f09a8e34-b672-42dd-c46d-c5a3068226f3"
      },
      "outputs": [
        {
          "name": "stdout",
          "output_type": "stream",
          "text": [
            "Cross Val Score: 0.939 ± 0.004 // Time: 0:03:25.961434\n"
          ]
        }
      ],
      "source": [
        "# create new RF model and perform cross validation\n",
        "rf_pca = RandomForestClassifier(oob_score=True, n_estimators=100)\n",
        "cross_val(rf_pca, z_train, y_train)"
      ]
    },
    {
      "cell_type": "code",
      "execution_count": null,
      "metadata": {
        "id": "qL7UPhha13Gd",
        "outputId": "55e7f385-44f6-4992-e44e-867636bff474"
      },
      "outputs": [
        {
          "name": "stdout",
          "output_type": "stream",
          "text": [
            "OOB Score: 0.9269642857142857\n",
            "Test Score: 0.9419047619047619\n",
            "Training Time: 0:00:35.230495\n"
          ]
        }
      ],
      "source": [
        "# fit the new model\n",
        "rf_pca = model_fit(rf_pca, z_train, y_train, z_test, y_test)"
      ]
    },
    {
      "cell_type": "code",
      "execution_count": null,
      "metadata": {
        "id": "CSmK82gJ13Gd"
      },
      "outputs": [],
      "source": [
        "# make new predictions\n",
        "rf_pca_train = rf_pca.predict(z_test)\n",
        "rf_pca_train_df = pd.DataFrame(rf_pca_train, columns=['Predictions'])\n",
        "rf_pca_train_df[\"Target\"] = list(y_test)"
      ]
    },
    {
      "cell_type": "code",
      "execution_count": null,
      "metadata": {
        "id": "PJRyQpDB13Gd",
        "outputId": "667c8129-5a03-4d2c-b3b4-91bfe61e1039"
      },
      "outputs": [
        {
          "name": "stdout",
          "output_type": "stream",
          "text": [
            "              precision    recall  f1-score   support\n",
            "\n",
            "           0       0.96      0.98      0.97       818\n",
            "           1       0.97      0.99      0.98       897\n",
            "           2       0.94      0.93      0.93       839\n",
            "           3       0.91      0.92      0.91       826\n",
            "           4       0.93      0.95      0.94       812\n",
            "           5       0.94      0.93      0.93       783\n",
            "           6       0.97      0.97      0.97       847\n",
            "           7       0.95      0.95      0.95       864\n",
            "           8       0.93      0.91      0.92       832\n",
            "           9       0.92      0.90      0.91       882\n",
            "\n",
            "    accuracy                           0.94      8400\n",
            "   macro avg       0.94      0.94      0.94      8400\n",
            "weighted avg       0.94      0.94      0.94      8400\n",
            "\n"
          ]
        }
      ],
      "source": [
        "# create classification report\n",
        "print(classification_report(rf_pca_train_df['Target'], rf_pca_train_df['Predictions'], target_names=targets))"
      ]
    },
    {
      "cell_type": "code",
      "execution_count": null,
      "metadata": {
        "id": "RktmJtqX13Gd"
      },
      "outputs": [],
      "source": [
        "# export csv of predictions\n",
        "pca_test = pca.transform(holdout)\n",
        "rf_pca_pred = rf_pca.predict(pca_test)\n",
        "rf_pca_pred = pd.Series(rf_pca_pred, name=\"Label\")\n",
        "\n",
        "digit_recognizer_rf_pca = pd.concat([pd.Series(range(len(holdout)), name = \"ImageId\"), rf_pca_pred], axis=1)\n",
        "digit_recognizer_rf_pca['ImageId'] = digit_recognizer_rf_pca['ImageId']+1\n",
        "digit_recognizer_rf_pca.to_csv(r'/Users/kyleberry/Documents/MSDS-422/Module 6/Module 6 Assignment/digit_recognizer_rf_pca.csv', index=False)"
      ]
    },
    {
      "cell_type": "code",
      "execution_count": null,
      "metadata": {
        "id": "OL76vSTD13Ge"
      },
      "outputs": [],
      "source": [
        "# k-means clustering\n",
        "\n",
        "# create function to map cluster to labels\n",
        "def get_reference_dict(clusters, data_label):\n",
        "    reference_label = {}\n",
        "    for i in range(len(np.unique(clusters))):\n",
        "        index = np.where(clusters == i,1,0)\n",
        "        num = np.bincount(data_label[index==1]).argmax()\n",
        "        reference_label[i] = num\n",
        "    return reference_label"
      ]
    },
    {
      "cell_type": "code",
      "execution_count": null,
      "metadata": {
        "id": "HvuRapw_13Ge"
      },
      "outputs": [],
      "source": [
        "# create function to map predictions to labels\n",
        "def get_labels(clusters, reference_labels):\n",
        "    number_labels = np.random.rand(len(clusters))\n",
        "    for i in range(len(clusters)):\n",
        "        number_labels[i] = reference_labels[clusters[i]]\n",
        "    return number_labels"
      ]
    },
    {
      "cell_type": "code",
      "execution_count": null,
      "metadata": {
        "id": "Qc9SrupN13Ge"
      },
      "outputs": [],
      "source": [
        "# start with 10 clusters\n",
        "n = len(y.unique())\n",
        "kmeans = KMeans(n_clusters=n)\n",
        "kmeans.fit(x)\n",
        "clusters = kmeans.predict(x)"
      ]
    },
    {
      "cell_type": "code",
      "execution_count": null,
      "metadata": {
        "id": "vQAlyW7o13Ge",
        "outputId": "22e6383f-3b4d-4285-d20b-fc26ecf97fc9"
      },
      "outputs": [
        {
          "name": "stdout",
          "output_type": "stream",
          "text": [
            "{0: 4, 1: 6, 2: 7, 3: 8, 4: 3, 5: 0, 6: 1, 7: 1, 8: 0, 9: 2}\n",
            "0.5908571428571429\n"
          ]
        }
      ],
      "source": [
        "# get referenace labels and accuracy score\n",
        "reference_labels = get_reference_dict(clusters,y)\n",
        "predicted_labels = get_labels(clusters, reference_labels)\n",
        "print(reference_labels)\n",
        "print(accuracy_score(predicted_labels, y))"
      ]
    },
    {
      "cell_type": "code",
      "execution_count": null,
      "metadata": {
        "id": "aVRBiRkI13Ge",
        "outputId": "4006967f-ba82-4595-d6e8-1e7f95f361c4"
      },
      "outputs": [
        {
          "name": "stdout",
          "output_type": "stream",
          "text": [
            "Inertia: 1648241.4467875406\n"
          ]
        }
      ],
      "source": [
        "# check inertia to see how well the dataset was clustered\n",
        "print(f'Inertia: {kmeans.inertia_}')"
      ]
    },
    {
      "cell_type": "code",
      "execution_count": null,
      "metadata": {
        "id": "r8oby44713Ge",
        "outputId": "2164b38d-b3ed-4625-83c3-d4267da42188"
      },
      "outputs": [
        {
          "data": {
            "text/html": [
              "<div>\n",
              "<style scoped>\n",
              "    .dataframe tbody tr th:only-of-type {\n",
              "        vertical-align: middle;\n",
              "    }\n",
              "\n",
              "    .dataframe tbody tr th {\n",
              "        vertical-align: top;\n",
              "    }\n",
              "\n",
              "    .dataframe thead th {\n",
              "        text-align: right;\n",
              "    }\n",
              "</style>\n",
              "<table border=\"1\" class=\"dataframe\">\n",
              "  <thead>\n",
              "    <tr style=\"text-align: right;\">\n",
              "      <th></th>\n",
              "      <th>Predicted 0</th>\n",
              "      <th>Predicted 1</th>\n",
              "      <th>Predicted 2</th>\n",
              "      <th>Predicted 3</th>\n",
              "      <th>Predicted 4</th>\n",
              "      <th>Predicted 5</th>\n",
              "      <th>Predicted 6</th>\n",
              "      <th>Predicted 7</th>\n",
              "      <th>Predicted 8</th>\n",
              "      <th>Predicted 9</th>\n",
              "    </tr>\n",
              "  </thead>\n",
              "  <tbody>\n",
              "    <tr>\n",
              "      <th>Actual 0</th>\n",
              "      <td>3695</td>\n",
              "      <td>12</td>\n",
              "      <td>9</td>\n",
              "      <td>139</td>\n",
              "      <td>24</td>\n",
              "      <td>0</td>\n",
              "      <td>129</td>\n",
              "      <td>8</td>\n",
              "      <td>116</td>\n",
              "      <td>0</td>\n",
              "    </tr>\n",
              "    <tr>\n",
              "      <th>Actual 1</th>\n",
              "      <td>0</td>\n",
              "      <td>4656</td>\n",
              "      <td>3</td>\n",
              "      <td>4</td>\n",
              "      <td>4</td>\n",
              "      <td>0</td>\n",
              "      <td>5</td>\n",
              "      <td>4</td>\n",
              "      <td>8</td>\n",
              "      <td>0</td>\n",
              "    </tr>\n",
              "    <tr>\n",
              "      <th>Actual 2</th>\n",
              "      <td>77</td>\n",
              "      <td>526</td>\n",
              "      <td>2914</td>\n",
              "      <td>232</td>\n",
              "      <td>126</td>\n",
              "      <td>0</td>\n",
              "      <td>141</td>\n",
              "      <td>49</td>\n",
              "      <td>112</td>\n",
              "      <td>0</td>\n",
              "    </tr>\n",
              "    <tr>\n",
              "      <th>Actual 3</th>\n",
              "      <td>98</td>\n",
              "      <td>353</td>\n",
              "      <td>150</td>\n",
              "      <td>2800</td>\n",
              "      <td>121</td>\n",
              "      <td>0</td>\n",
              "      <td>43</td>\n",
              "      <td>33</td>\n",
              "      <td>753</td>\n",
              "      <td>0</td>\n",
              "    </tr>\n",
              "    <tr>\n",
              "      <th>Actual 4</th>\n",
              "      <td>17</td>\n",
              "      <td>312</td>\n",
              "      <td>27</td>\n",
              "      <td>0</td>\n",
              "      <td>2277</td>\n",
              "      <td>0</td>\n",
              "      <td>130</td>\n",
              "      <td>1296</td>\n",
              "      <td>13</td>\n",
              "      <td>0</td>\n",
              "    </tr>\n",
              "    <tr>\n",
              "      <th>Actual 5</th>\n",
              "      <td>219</td>\n",
              "      <td>676</td>\n",
              "      <td>12</td>\n",
              "      <td>1268</td>\n",
              "      <td>239</td>\n",
              "      <td>0</td>\n",
              "      <td>72</td>\n",
              "      <td>246</td>\n",
              "      <td>1063</td>\n",
              "      <td>0</td>\n",
              "    </tr>\n",
              "    <tr>\n",
              "      <th>Actual 6</th>\n",
              "      <td>177</td>\n",
              "      <td>360</td>\n",
              "      <td>49</td>\n",
              "      <td>19</td>\n",
              "      <td>55</td>\n",
              "      <td>0</td>\n",
              "      <td>3413</td>\n",
              "      <td>2</td>\n",
              "      <td>62</td>\n",
              "      <td>0</td>\n",
              "    </tr>\n",
              "    <tr>\n",
              "      <th>Actual 7</th>\n",
              "      <td>18</td>\n",
              "      <td>425</td>\n",
              "      <td>31</td>\n",
              "      <td>4</td>\n",
              "      <td>1304</td>\n",
              "      <td>0</td>\n",
              "      <td>5</td>\n",
              "      <td>2607</td>\n",
              "      <td>7</td>\n",
              "      <td>0</td>\n",
              "    </tr>\n",
              "    <tr>\n",
              "      <th>Actual 8</th>\n",
              "      <td>52</td>\n",
              "      <td>465</td>\n",
              "      <td>35</td>\n",
              "      <td>768</td>\n",
              "      <td>127</td>\n",
              "      <td>0</td>\n",
              "      <td>35</td>\n",
              "      <td>127</td>\n",
              "      <td>2454</td>\n",
              "      <td>0</td>\n",
              "    </tr>\n",
              "    <tr>\n",
              "      <th>Actual 9</th>\n",
              "      <td>49</td>\n",
              "      <td>234</td>\n",
              "      <td>6</td>\n",
              "      <td>51</td>\n",
              "      <td>2110</td>\n",
              "      <td>0</td>\n",
              "      <td>12</td>\n",
              "      <td>1675</td>\n",
              "      <td>51</td>\n",
              "      <td>0</td>\n",
              "    </tr>\n",
              "  </tbody>\n",
              "</table>\n",
              "</div>"
            ],
            "text/plain": [
              "          Predicted 0  Predicted 1  Predicted 2  Predicted 3  Predicted 4  \\\n",
              "Actual 0         3695           12            9          139           24   \n",
              "Actual 1            0         4656            3            4            4   \n",
              "Actual 2           77          526         2914          232          126   \n",
              "Actual 3           98          353          150         2800          121   \n",
              "Actual 4           17          312           27            0         2277   \n",
              "Actual 5          219          676           12         1268          239   \n",
              "Actual 6          177          360           49           19           55   \n",
              "Actual 7           18          425           31            4         1304   \n",
              "Actual 8           52          465           35          768          127   \n",
              "Actual 9           49          234            6           51         2110   \n",
              "\n",
              "          Predicted 5  Predicted 6  Predicted 7  Predicted 8  Predicted 9  \n",
              "Actual 0            0          129            8          116            0  \n",
              "Actual 1            0            5            4            8            0  \n",
              "Actual 2            0          141           49          112            0  \n",
              "Actual 3            0           43           33          753            0  \n",
              "Actual 4            0          130         1296           13            0  \n",
              "Actual 5            0           72          246         1063            0  \n",
              "Actual 6            0         3413            2           62            0  \n",
              "Actual 7            0            5         2607            7            0  \n",
              "Actual 8            0           35          127         2454            0  \n",
              "Actual 9            0           12         1675           51            0  "
            ]
          },
          "execution_count": 72,
          "metadata": {},
          "output_type": "execute_result"
        }
      ],
      "source": [
        "# create confusion matrix\n",
        "cm = confusion_matrix(y, predicted_labels)\n",
        "cm_df = pd.DataFrame(cm, columns= [\"Predicted 0\",\"Predicted 1\",\"Predicted 2\",\"Predicted 3\",\"Predicted 4\",\"Predicted 5\",\"Predicted 6\",\"Predicted 7\", \"Predicted 8\",\"Predicted 9\"],\n",
        "                    index = [\"Actual 0\",\"Actual 1\",\"Actual 2\",\"Actual 3\",\"Actual 4\",\"Actual 5\",\"Actual 6\",\"Actual 7\",\"Actual 8\",\"Actual 9\"])\n",
        "cm_df"
      ]
    },
    {
      "cell_type": "code",
      "execution_count": null,
      "metadata": {
        "id": "ODVSY1Ja13Ge"
      },
      "outputs": [],
      "source": [
        "# export predictions to csv\n",
        "km_test_preds = kmeans.predict(holdout)\n",
        "test_predicted_labels = get_labels(km_test_preds, reference_labels)\n",
        "test_predicted_labels = np.array([int(x) for x in test_predicted_labels])\n",
        "\n",
        "km_preds = pd.Series(test_predicted_labels, name=\"Label\")\n",
        "digit_recognizer_km = pd.concat([pd.Series(range(len(holdout)), name=\"ImageId\"), km_preds], axis=1)\n",
        "digit_recognizer_km['ImageId'] = digit_recognizer_km['ImageId'] +1\n",
        "digit_recognizer_km.to_csv(r'/Users/kyleberry/Documents/MSDS-422/Module 6/Module 6 Assignment/digit_recognizer_km.csv', index=False)"
      ]
    },
    {
      "cell_type": "code",
      "execution_count": null,
      "metadata": {
        "id": "hXFq3aHJ13Ge"
      },
      "outputs": [],
      "source": [
        "# increase number of clusters\n",
        "km2 = MiniBatchKMeans(n_clusters=30)\n",
        "km2.fit(x)\n",
        "clusters2 = km2.predict(x)"
      ]
    },
    {
      "cell_type": "code",
      "execution_count": null,
      "metadata": {
        "id": "H_Y8PZD413Gf",
        "outputId": "9c3ace7b-b9d1-4b75-e281-ec5ec3ce933a"
      },
      "outputs": [
        {
          "name": "stdout",
          "output_type": "stream",
          "text": [
            "{0: 4, 1: 1, 2: 9, 3: 0, 4: 4, 5: 5, 6: 6, 7: 3, 8: 5, 9: 0, 10: 1, 11: 5, 12: 6, 13: 9, 14: 3, 15: 7, 16: 2, 17: 6, 18: 0, 19: 6, 20: 8, 21: 8, 22: 6, 23: 7, 24: 2, 25: 7, 26: 3, 27: 2, 28: 0, 29: 4}\n",
            "0.763547619047619\n"
          ]
        }
      ],
      "source": [
        "# make dictionary and check accuracy\n",
        "reference_labels2 = get_reference_dict(clusters2, y)\n",
        "predicted_labels2 = get_labels(clusters2, reference_labels2)\n",
        "print(reference_labels2)\n",
        "print(accuracy_score(predicted_labels2, y))"
      ]
    },
    {
      "cell_type": "code",
      "execution_count": null,
      "metadata": {
        "id": "uK_wz97E13Gf",
        "outputId": "08aa583e-6892-4b6c-9951-38ed9273bfa4"
      },
      "outputs": [
        {
          "name": "stdout",
          "output_type": "stream",
          "text": [
            "Inertia: 1405783.3959919969\n"
          ]
        }
      ],
      "source": [
        "print(f'Inertia: {km2.inertia_}')"
      ]
    },
    {
      "cell_type": "code",
      "execution_count": null,
      "metadata": {
        "id": "Pcj9AOw213Gf",
        "outputId": "fd5cc5d7-d3f4-4963-bb2c-adbb1b9ed20c"
      },
      "outputs": [
        {
          "data": {
            "text/html": [
              "<div>\n",
              "<style scoped>\n",
              "    .dataframe tbody tr th:only-of-type {\n",
              "        vertical-align: middle;\n",
              "    }\n",
              "\n",
              "    .dataframe tbody tr th {\n",
              "        vertical-align: top;\n",
              "    }\n",
              "\n",
              "    .dataframe thead th {\n",
              "        text-align: right;\n",
              "    }\n",
              "</style>\n",
              "<table border=\"1\" class=\"dataframe\">\n",
              "  <thead>\n",
              "    <tr style=\"text-align: right;\">\n",
              "      <th></th>\n",
              "      <th>Predicted 0</th>\n",
              "      <th>Predicted 1</th>\n",
              "      <th>Predicted 2</th>\n",
              "      <th>Predicted 3</th>\n",
              "      <th>Predicted 4</th>\n",
              "      <th>Predicted 5</th>\n",
              "      <th>Predicted 6</th>\n",
              "      <th>Predicted 7</th>\n",
              "      <th>Predicted 8</th>\n",
              "      <th>Predicted 9</th>\n",
              "    </tr>\n",
              "  </thead>\n",
              "  <tbody>\n",
              "    <tr>\n",
              "      <th>Actual 0</th>\n",
              "      <td>3616</td>\n",
              "      <td>0</td>\n",
              "      <td>6</td>\n",
              "      <td>62</td>\n",
              "      <td>5</td>\n",
              "      <td>154</td>\n",
              "      <td>268</td>\n",
              "      <td>2</td>\n",
              "      <td>18</td>\n",
              "      <td>1</td>\n",
              "    </tr>\n",
              "    <tr>\n",
              "      <th>Actual 1</th>\n",
              "      <td>0</td>\n",
              "      <td>4514</td>\n",
              "      <td>12</td>\n",
              "      <td>99</td>\n",
              "      <td>1</td>\n",
              "      <td>32</td>\n",
              "      <td>7</td>\n",
              "      <td>9</td>\n",
              "      <td>10</td>\n",
              "      <td>0</td>\n",
              "    </tr>\n",
              "    <tr>\n",
              "      <th>Actual 2</th>\n",
              "      <td>51</td>\n",
              "      <td>119</td>\n",
              "      <td>3518</td>\n",
              "      <td>150</td>\n",
              "      <td>71</td>\n",
              "      <td>50</td>\n",
              "      <td>32</td>\n",
              "      <td>84</td>\n",
              "      <td>101</td>\n",
              "      <td>1</td>\n",
              "    </tr>\n",
              "    <tr>\n",
              "      <th>Actual 3</th>\n",
              "      <td>23</td>\n",
              "      <td>31</td>\n",
              "      <td>115</td>\n",
              "      <td>3038</td>\n",
              "      <td>11</td>\n",
              "      <td>466</td>\n",
              "      <td>26</td>\n",
              "      <td>52</td>\n",
              "      <td>552</td>\n",
              "      <td>37</td>\n",
              "    </tr>\n",
              "    <tr>\n",
              "      <th>Actual 4</th>\n",
              "      <td>4</td>\n",
              "      <td>62</td>\n",
              "      <td>15</td>\n",
              "      <td>40</td>\n",
              "      <td>2471</td>\n",
              "      <td>53</td>\n",
              "      <td>116</td>\n",
              "      <td>282</td>\n",
              "      <td>2</td>\n",
              "      <td>1027</td>\n",
              "    </tr>\n",
              "    <tr>\n",
              "      <th>Actual 5</th>\n",
              "      <td>33</td>\n",
              "      <td>25</td>\n",
              "      <td>1</td>\n",
              "      <td>891</td>\n",
              "      <td>51</td>\n",
              "      <td>2471</td>\n",
              "      <td>92</td>\n",
              "      <td>20</td>\n",
              "      <td>173</td>\n",
              "      <td>38</td>\n",
              "    </tr>\n",
              "    <tr>\n",
              "      <th>Actual 6</th>\n",
              "      <td>35</td>\n",
              "      <td>39</td>\n",
              "      <td>1</td>\n",
              "      <td>105</td>\n",
              "      <td>11</td>\n",
              "      <td>68</td>\n",
              "      <td>3871</td>\n",
              "      <td>0</td>\n",
              "      <td>7</td>\n",
              "      <td>0</td>\n",
              "    </tr>\n",
              "    <tr>\n",
              "      <th>Actual 7</th>\n",
              "      <td>5</td>\n",
              "      <td>142</td>\n",
              "      <td>45</td>\n",
              "      <td>32</td>\n",
              "      <td>148</td>\n",
              "      <td>41</td>\n",
              "      <td>6</td>\n",
              "      <td>3659</td>\n",
              "      <td>9</td>\n",
              "      <td>314</td>\n",
              "    </tr>\n",
              "    <tr>\n",
              "      <th>Actual 8</th>\n",
              "      <td>41</td>\n",
              "      <td>108</td>\n",
              "      <td>28</td>\n",
              "      <td>590</td>\n",
              "      <td>65</td>\n",
              "      <td>287</td>\n",
              "      <td>20</td>\n",
              "      <td>73</td>\n",
              "      <td>2809</td>\n",
              "      <td>42</td>\n",
              "    </tr>\n",
              "    <tr>\n",
              "      <th>Actual 9</th>\n",
              "      <td>17</td>\n",
              "      <td>46</td>\n",
              "      <td>6</td>\n",
              "      <td>86</td>\n",
              "      <td>948</td>\n",
              "      <td>34</td>\n",
              "      <td>18</td>\n",
              "      <td>900</td>\n",
              "      <td>31</td>\n",
              "      <td>2102</td>\n",
              "    </tr>\n",
              "  </tbody>\n",
              "</table>\n",
              "</div>"
            ],
            "text/plain": [
              "          Predicted 0  Predicted 1  Predicted 2  Predicted 3  Predicted 4  \\\n",
              "Actual 0         3616            0            6           62            5   \n",
              "Actual 1            0         4514           12           99            1   \n",
              "Actual 2           51          119         3518          150           71   \n",
              "Actual 3           23           31          115         3038           11   \n",
              "Actual 4            4           62           15           40         2471   \n",
              "Actual 5           33           25            1          891           51   \n",
              "Actual 6           35           39            1          105           11   \n",
              "Actual 7            5          142           45           32          148   \n",
              "Actual 8           41          108           28          590           65   \n",
              "Actual 9           17           46            6           86          948   \n",
              "\n",
              "          Predicted 5  Predicted 6  Predicted 7  Predicted 8  Predicted 9  \n",
              "Actual 0          154          268            2           18            1  \n",
              "Actual 1           32            7            9           10            0  \n",
              "Actual 2           50           32           84          101            1  \n",
              "Actual 3          466           26           52          552           37  \n",
              "Actual 4           53          116          282            2         1027  \n",
              "Actual 5         2471           92           20          173           38  \n",
              "Actual 6           68         3871            0            7            0  \n",
              "Actual 7           41            6         3659            9          314  \n",
              "Actual 8          287           20           73         2809           42  \n",
              "Actual 9           34           18          900           31         2102  "
            ]
          },
          "execution_count": 80,
          "metadata": {},
          "output_type": "execute_result"
        }
      ],
      "source": [
        "cm2 = confusion_matrix(y, predicted_labels2)\n",
        "cm_df2 = pd.DataFrame(cm2, columns = [\"Predicted 0\", \"Predicted 1\", \"Predicted 2\", \"Predicted 3\", \"Predicted 4\", \"Predicted 5\", \"Predicted 6\", \"Predicted 7\", \"Predicted 8\", \"Predicted 9\"], \n",
        "                     index = [\"Actual 0\", \"Actual 1\", \"Actual 2\", \"Actual 3\", \"Actual 4\", \"Actual 5\", \"Actual 6\", \"Actual 7\", \"Actual 8\", \"Actual 9\"])\n",
        "cm_df2"
      ]
    },
    {
      "cell_type": "code",
      "execution_count": null,
      "metadata": {
        "id": "OPMPP1sZ13Gf"
      },
      "outputs": [],
      "source": [
        "# export predictions to csv\n",
        "km_test_preds2 = km2.predict(holdout)\n",
        "test_predicted_labels2 = get_labels(km_test_preds2, reference_labels2)\n",
        "test_predicted_labels2 = np.array([int(x) for x in test_predicted_labels2])\n",
        "\n",
        "km_preds2 = pd.Series(test_predicted_labels2, name=\"Label\")\n",
        "digit_recognizer_km2 = pd.concat([pd.Series(range(len(holdout)), name=\"ImageId\"), km_preds2], axis=1)\n",
        "digit_recognizer_km2['ImageId'] = digit_recognizer_km2['ImageId'] +1\n",
        "digit_recognizer_km2.to_csv(r'/Users/kyleberry/Documents/MSDS-422/Module 6/Module 6 Assignment/digit_recognizer_km2.csv', index=False)"
      ]
    },
    {
      "cell_type": "markdown",
      "source": [
        "# CONCLUSION"
      ],
      "metadata": {
        "id": "Wi6s7XxM2Ocy"
      }
    },
    {
      "cell_type": "markdown",
      "source": [
        "The first Random Forest model that I created was the most accurate, close to 97%. After doing some principal component analysis with a new model, I created another Random Forest  with 94% accuracy. Missing pixel data might be to blame here, which could mess with identifying digits that look pretty similar. Lastly, I created a K-Means clustering model and after an initial try with 10 clusters, I increased that to 30 and found another good model with roughly 97% accuracy."
      ],
      "metadata": {
        "id": "NryNv9R52Ume"
      }
    }
  ],
  "metadata": {
    "kernelspec": {
      "display_name": "Python 3",
      "language": "python",
      "name": "python3"
    },
    "language_info": {
      "codemirror_mode": {
        "name": "ipython",
        "version": 3
      },
      "file_extension": ".py",
      "mimetype": "text/x-python",
      "name": "python",
      "nbconvert_exporter": "python",
      "pygments_lexer": "ipython3",
      "version": "3.8.5"
    },
    "colab": {
      "name": "Module 6 Assignment_Berry.ipynb",
      "provenance": [],
      "toc_visible": true,
      "include_colab_link": true
    }
  },
  "nbformat": 4,
  "nbformat_minor": 0
}