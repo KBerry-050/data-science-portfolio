{
  "cells": [
    {
      "cell_type": "markdown",
      "metadata": {
        "id": "view-in-github",
        "colab_type": "text"
      },
      "source": [
        "<a href=\"https://colab.research.google.com/github/KBerry-050/data-science-portfolio/blob/main/Module_2_Assignment_Berry.ipynb\" target=\"_parent\"><img src=\"https://colab.research.google.com/assets/colab-badge.svg\" alt=\"Open In Colab\"/></a>"
      ]
    },
    {
      "cell_type": "code",
      "execution_count": null,
      "metadata": {
        "id": "vrhPhoRF7g0j"
      },
      "outputs": [],
      "source": [
        "# import libraries for EDA and visualization\n",
        "import pandas as pd\n",
        "import numpy as np\n",
        "from numpy import mean, absolute, sqrt\n",
        "import matplotlib.pyplot as plt\n",
        "import seaborn as sns"
      ]
    },
    {
      "cell_type": "markdown",
      "source": [
        "# INGEST\n"
      ],
      "metadata": {
        "id": "lugrPSLP7_nF"
      }
    },
    {
      "cell_type": "code",
      "execution_count": null,
      "metadata": {
        "id": "3WOYAgH-7g0l",
        "outputId": "b339aead-5e85-4dc0-deca-fa6db459f80a"
      },
      "outputs": [
        {
          "data": {
            "text/html": [
              "<div>\n",
              "<style scoped>\n",
              "    .dataframe tbody tr th:only-of-type {\n",
              "        vertical-align: middle;\n",
              "    }\n",
              "\n",
              "    .dataframe tbody tr th {\n",
              "        vertical-align: top;\n",
              "    }\n",
              "\n",
              "    .dataframe thead th {\n",
              "        text-align: right;\n",
              "    }\n",
              "</style>\n",
              "<table border=\"1\" class=\"dataframe\">\n",
              "  <thead>\n",
              "    <tr style=\"text-align: right;\">\n",
              "      <th></th>\n",
              "      <th>Id</th>\n",
              "      <th>MSSubClass</th>\n",
              "      <th>MSZoning</th>\n",
              "      <th>LotFrontage</th>\n",
              "      <th>LotArea</th>\n",
              "      <th>Street</th>\n",
              "      <th>Alley</th>\n",
              "      <th>LotShape</th>\n",
              "      <th>LandContour</th>\n",
              "      <th>Utilities</th>\n",
              "      <th>...</th>\n",
              "      <th>PoolQC</th>\n",
              "      <th>Fence</th>\n",
              "      <th>MiscFeature</th>\n",
              "      <th>MiscVal</th>\n",
              "      <th>MoSold</th>\n",
              "      <th>YrSold</th>\n",
              "      <th>SaleType</th>\n",
              "      <th>SaleCondition</th>\n",
              "      <th>SalePrice</th>\n",
              "      <th>new_score</th>\n",
              "    </tr>\n",
              "  </thead>\n",
              "  <tbody>\n",
              "    <tr>\n",
              "      <th>0</th>\n",
              "      <td>1</td>\n",
              "      <td>60</td>\n",
              "      <td>RL</td>\n",
              "      <td>65.0</td>\n",
              "      <td>8450</td>\n",
              "      <td>Pave</td>\n",
              "      <td>NaN</td>\n",
              "      <td>Reg</td>\n",
              "      <td>Lvl</td>\n",
              "      <td>AllPub</td>\n",
              "      <td>...</td>\n",
              "      <td>NaN</td>\n",
              "      <td>NaN</td>\n",
              "      <td>NaN</td>\n",
              "      <td>0</td>\n",
              "      <td>2</td>\n",
              "      <td>2008</td>\n",
              "      <td>WD</td>\n",
              "      <td>Normal</td>\n",
              "      <td>208500</td>\n",
              "      <td>11970</td>\n",
              "    </tr>\n",
              "    <tr>\n",
              "      <th>1</th>\n",
              "      <td>2</td>\n",
              "      <td>20</td>\n",
              "      <td>RL</td>\n",
              "      <td>80.0</td>\n",
              "      <td>9600</td>\n",
              "      <td>Pave</td>\n",
              "      <td>NaN</td>\n",
              "      <td>Reg</td>\n",
              "      <td>Lvl</td>\n",
              "      <td>AllPub</td>\n",
              "      <td>...</td>\n",
              "      <td>NaN</td>\n",
              "      <td>NaN</td>\n",
              "      <td>NaN</td>\n",
              "      <td>0</td>\n",
              "      <td>5</td>\n",
              "      <td>2007</td>\n",
              "      <td>WD</td>\n",
              "      <td>Normal</td>\n",
              "      <td>181500</td>\n",
              "      <td>7572</td>\n",
              "    </tr>\n",
              "    <tr>\n",
              "      <th>2</th>\n",
              "      <td>3</td>\n",
              "      <td>60</td>\n",
              "      <td>RL</td>\n",
              "      <td>68.0</td>\n",
              "      <td>11250</td>\n",
              "      <td>Pave</td>\n",
              "      <td>NaN</td>\n",
              "      <td>IR1</td>\n",
              "      <td>Lvl</td>\n",
              "      <td>AllPub</td>\n",
              "      <td>...</td>\n",
              "      <td>NaN</td>\n",
              "      <td>NaN</td>\n",
              "      <td>NaN</td>\n",
              "      <td>0</td>\n",
              "      <td>9</td>\n",
              "      <td>2008</td>\n",
              "      <td>WD</td>\n",
              "      <td>Normal</td>\n",
              "      <td>223500</td>\n",
              "      <td>12502</td>\n",
              "    </tr>\n",
              "    <tr>\n",
              "      <th>3</th>\n",
              "      <td>4</td>\n",
              "      <td>70</td>\n",
              "      <td>RL</td>\n",
              "      <td>60.0</td>\n",
              "      <td>9550</td>\n",
              "      <td>Pave</td>\n",
              "      <td>NaN</td>\n",
              "      <td>IR1</td>\n",
              "      <td>Lvl</td>\n",
              "      <td>AllPub</td>\n",
              "      <td>...</td>\n",
              "      <td>NaN</td>\n",
              "      <td>NaN</td>\n",
              "      <td>NaN</td>\n",
              "      <td>0</td>\n",
              "      <td>2</td>\n",
              "      <td>2006</td>\n",
              "      <td>WD</td>\n",
              "      <td>Abnorml</td>\n",
              "      <td>140000</td>\n",
              "      <td>12019</td>\n",
              "    </tr>\n",
              "    <tr>\n",
              "      <th>4</th>\n",
              "      <td>5</td>\n",
              "      <td>60</td>\n",
              "      <td>RL</td>\n",
              "      <td>84.0</td>\n",
              "      <td>14260</td>\n",
              "      <td>Pave</td>\n",
              "      <td>NaN</td>\n",
              "      <td>IR1</td>\n",
              "      <td>Lvl</td>\n",
              "      <td>AllPub</td>\n",
              "      <td>...</td>\n",
              "      <td>NaN</td>\n",
              "      <td>NaN</td>\n",
              "      <td>NaN</td>\n",
              "      <td>0</td>\n",
              "      <td>12</td>\n",
              "      <td>2008</td>\n",
              "      <td>WD</td>\n",
              "      <td>Normal</td>\n",
              "      <td>250000</td>\n",
              "      <td>17584</td>\n",
              "    </tr>\n",
              "  </tbody>\n",
              "</table>\n",
              "<p>5 rows × 82 columns</p>\n",
              "</div>"
            ],
            "text/plain": [
              "   Id  MSSubClass MSZoning  LotFrontage  LotArea Street Alley LotShape  \\\n",
              "0   1          60       RL         65.0     8450   Pave   NaN      Reg   \n",
              "1   2          20       RL         80.0     9600   Pave   NaN      Reg   \n",
              "2   3          60       RL         68.0    11250   Pave   NaN      IR1   \n",
              "3   4          70       RL         60.0     9550   Pave   NaN      IR1   \n",
              "4   5          60       RL         84.0    14260   Pave   NaN      IR1   \n",
              "\n",
              "  LandContour Utilities  ... PoolQC Fence MiscFeature MiscVal MoSold YrSold  \\\n",
              "0         Lvl    AllPub  ...    NaN   NaN         NaN       0      2   2008   \n",
              "1         Lvl    AllPub  ...    NaN   NaN         NaN       0      5   2007   \n",
              "2         Lvl    AllPub  ...    NaN   NaN         NaN       0      9   2008   \n",
              "3         Lvl    AllPub  ...    NaN   NaN         NaN       0      2   2006   \n",
              "4         Lvl    AllPub  ...    NaN   NaN         NaN       0     12   2008   \n",
              "\n",
              "  SaleType  SaleCondition  SalePrice  new_score  \n",
              "0       WD         Normal     208500      11970  \n",
              "1       WD         Normal     181500       7572  \n",
              "2       WD         Normal     223500      12502  \n",
              "3       WD        Abnorml     140000      12019  \n",
              "4       WD         Normal     250000      17584  \n",
              "\n",
              "[5 rows x 82 columns]"
            ]
          },
          "execution_count": 20,
          "metadata": {},
          "output_type": "execute_result"
        }
      ],
      "source": [
        "# read in train dataset, create DF, look at first 5 records\n",
        "df_train = pd.read_csv(\"train.csv\")\n",
        "df_train = pd.DataFrame(data)\n",
        "df_train.head()"
      ]
    },
    {
      "cell_type": "markdown",
      "source": [
        "# EDA"
      ],
      "metadata": {
        "id": "y6rQBTGX8N2w"
      }
    },
    {
      "cell_type": "code",
      "execution_count": null,
      "metadata": {
        "id": "BmL3MNlj7g0m",
        "outputId": "9a1d4ee9-2299-454a-f09f-714cbbf2b38d"
      },
      "outputs": [
        {
          "data": {
            "text/plain": [
              "count      1460.000000\n",
              "mean     180921.195890\n",
              "std       79442.502883\n",
              "min       34900.000000\n",
              "25%      129975.000000\n",
              "50%      163000.000000\n",
              "75%      214000.000000\n",
              "max      755000.000000\n",
              "Name: SalePrice, dtype: float64"
            ]
          },
          "execution_count": 21,
          "metadata": {},
          "output_type": "execute_result"
        }
      ],
      "source": [
        "# investigate the dependent variable - see basic descriptive stats\n",
        "df_train.SalePrice.describe()"
      ]
    },
    {
      "cell_type": "code",
      "execution_count": null,
      "metadata": {
        "id": "2oS6Ugai7g0m",
        "outputId": "98e0f872-00ad-4809-d6d4-b8b8bd5da250"
      },
      "outputs": [
        {
          "data": {
            "text/plain": [
              "<AxesSubplot:xlabel='SalePrice'>"
            ]
          },
          "execution_count": 22,
          "metadata": {},
          "output_type": "execute_result"
        },
        {
          "data": {
            "image/png": "[encoded data removed]",
            "text/plain": [
              "<Figure size 432x288 with 1 Axes>"
            ]
          },
          "metadata": {},
          "output_type": "display_data"
        }
      ],
      "source": [
        "# create boxplot to visualize the distribution of data\n",
        "sns.set_theme(style=\"whitegrid\")\n",
        "sns.boxplot(x=df_train[\"SalePrice\"])"
      ]
    },
    {
      "cell_type": "code",
      "execution_count": null,
      "metadata": {
        "id": "drT7spiV7g0m",
        "outputId": "02c232ac-a9d4-4024-c097-0ce87f5ff902"
      },
      "outputs": [
        {
          "name": "stdout",
          "output_type": "stream",
          "text": [
            "The number of house prices outside of 1 std. deviation is:  332\n",
            "The percentage of total records that fall outside 1 std. dev. is:  0.2273972602739726\n"
          ]
        }
      ],
      "source": [
        "# check to see how many records fall outside of one standard deviation from the mean\n",
        "high = (df_train['SalePrice'] >= 257000).sum()\n",
        "low = (df_train['SalePrice'] <= 103000).sum()\n",
        "\n",
        "print(\"The number of house prices outside of 1 std. deviation is: \", high + low)\n",
        "print(\"The percentage of total records that fall outside 1 std. dev. is: \",(high+low)/1460)"
      ]
    },
    {
      "cell_type": "code",
      "execution_count": null,
      "metadata": {
        "id": "4JxXVFQA7g0n",
        "outputId": "7e5806a0-a49f-42cc-f237-40f78cff10c3"
      },
      "outputs": [
        {
          "data": {
            "text/plain": [
              "Id                 0\n",
              "MSSubClass         0\n",
              "MSZoning           0\n",
              "LotFrontage      259\n",
              "LotArea            0\n",
              "                ... \n",
              "YrSold             0\n",
              "SaleType           0\n",
              "SaleCondition      0\n",
              "SalePrice          0\n",
              "new_score          0\n",
              "Length: 82, dtype: int64"
            ]
          },
          "execution_count": 26,
          "metadata": {},
          "output_type": "execute_result"
        }
      ],
      "source": [
        "# check for missing data by column\n",
        "df_train.isnull().sum()"
      ]
    },
    {
      "cell_type": "code",
      "execution_count": null,
      "metadata": {
        "id": "z5-1F5NC7g0n",
        "outputId": "78e65505-6f4a-40e9-a568-1a8334819e22"
      },
      "outputs": [
        {
          "data": {
            "text/plain": [
              "6965"
            ]
          },
          "execution_count": 28,
          "metadata": {},
          "output_type": "execute_result"
        }
      ],
      "source": [
        "# now get the total number of missing values in the whole dataset\n",
        "df_train.isnull().sum().sum()"
      ]
    },
    {
      "cell_type": "code",
      "execution_count": null,
      "metadata": {
        "id": "6WgcQ0GW7g0o",
        "outputId": "678c481d-1212-4525-f4cd-52afd3bc01d8"
      },
      "outputs": [
        {
          "data": {
            "image/png": "[encoded data removed]",
            "text/plain": [
              "<Figure size 504x504 with 3 Axes>"
            ]
          },
          "metadata": {},
          "output_type": "display_data"
        }
      ],
      "source": [
        "# create a joint scatterplot and distribution chart to view relationship between lot area and sale price\n",
        "sns.set_theme(style=\"darkgrid\")\n",
        "\n",
        "g = sns.jointplot(x=\"SalePrice\", y=\"LotArea\", data=df_train,\n",
        "                  kind=\"reg\", truncate=False,\n",
        "                  xlim=(0, 800000), ylim=(0, 60000),\n",
        "                  color=\"m\", height=7)"
      ]
    },
    {
      "cell_type": "code",
      "execution_count": null,
      "metadata": {
        "id": "hFb76ZSz7g0o",
        "outputId": "dbe6c2d0-65ec-4db7-a561-c1ad8ec39b5c"
      },
      "outputs": [
        {
          "data": {
            "image/png": "[encoded data removed]",
            "text/plain": [
              "<Figure size 504x504 with 3 Axes>"
            ]
          },
          "metadata": {},
          "output_type": "display_data"
        }
      ],
      "source": [
        "# create a joint scatterplot and distribution chart to view relationship between year built and sale price\n",
        "sns.set_theme(style=\"darkgrid\")\n",
        "\n",
        "g = sns.jointplot(x=\"SalePrice\", y=\"YearBuilt\", data=df_train,\n",
        "                  kind=\"reg\", truncate=False,\n",
        "                  xlim=(0, 800000), ylim=(1900, 2020),\n",
        "                  color=\"m\", height=7)"
      ]
    },
    {
      "cell_type": "code",
      "execution_count": null,
      "metadata": {
        "id": "I-8KS_637g0p",
        "outputId": "ff6f416c-47a7-4da2-dcb3-c9489033e0c6"
      },
      "outputs": [
        {
          "data": {
            "image/png": "[encoded data removed]",
            "text/plain": [
              "<Figure size 504x504 with 3 Axes>"
            ]
          },
          "metadata": {},
          "output_type": "display_data"
        }
      ],
      "source": [
        "# create a joint scatterplot and histogram to view relationship between overall quality and sale price\n",
        "sns.set_theme(style=\"darkgrid\")\n",
        "\n",
        "g = sns.jointplot(x=\"SalePrice\", y=\"OverallQual\", data=df_train,\n",
        "                  kind=\"reg\", truncate=False,\n",
        "                  xlim=(0, 800000), ylim=(0, 10),\n",
        "                  color=\"m\", height=7)"
      ]
    },
    {
      "cell_type": "code",
      "execution_count": null,
      "metadata": {
        "id": "P2IcW7Yh7g0p",
        "outputId": "4849897f-75be-4e70-ff08-d093e1ba8615"
      },
      "outputs": [
        {
          "data": {
            "text/plain": [
              "SalePrice        1.000000\n",
              "new_score        0.832057\n",
              "OverallQual      0.790982\n",
              "GrLivArea        0.708624\n",
              "GarageCars       0.640409\n",
              "GarageArea       0.623431\n",
              "TotalBsmtSF      0.613581\n",
              "1stFlrSF         0.605852\n",
              "FullBath         0.560664\n",
              "TotRmsAbvGrd     0.533723\n",
              "YearBuilt        0.522897\n",
              "YearRemodAdd     0.507101\n",
              "GarageYrBlt      0.486362\n",
              "MasVnrArea       0.477493\n",
              "Fireplaces       0.466929\n",
              "BsmtFinSF1       0.386420\n",
              "LotFrontage      0.351799\n",
              "WoodDeckSF       0.324413\n",
              "2ndFlrSF         0.319334\n",
              "OpenPorchSF      0.315856\n",
              "HalfBath         0.284108\n",
              "LotArea          0.263843\n",
              "BsmtFullBath     0.227122\n",
              "BsmtUnfSF        0.214479\n",
              "BedroomAbvGr     0.168213\n",
              "ScreenPorch      0.111447\n",
              "PoolArea         0.092404\n",
              "MoSold           0.046432\n",
              "3SsnPorch        0.044584\n",
              "BsmtFinSF2      -0.011378\n",
              "BsmtHalfBath    -0.016844\n",
              "MiscVal         -0.021190\n",
              "Id              -0.021917\n",
              "LowQualFinSF    -0.025606\n",
              "YrSold          -0.028923\n",
              "OverallCond     -0.077856\n",
              "MSSubClass      -0.084284\n",
              "EnclosedPorch   -0.128578\n",
              "KitchenAbvGr    -0.135907\n",
              "Name: SalePrice, dtype: float64"
            ]
          },
          "execution_count": 32,
          "metadata": {},
          "output_type": "execute_result"
        }
      ],
      "source": [
        "# check correlation for each input variable\n",
        "corr = df_train.corr()[\"SalePrice\"]\n",
        "corr[np.argsort(corr, axis=0)[::-1]]"
      ]
    },
    {
      "cell_type": "markdown",
      "source": [
        "# FEATURE ENGINEERING"
      ],
      "metadata": {
        "id": "hXtSBWo_8Zh1"
      }
    },
    {
      "cell_type": "code",
      "execution_count": null,
      "metadata": {
        "id": "lVYF-O7A7g0p",
        "outputId": "53947c15-c5c6-4259-ee3f-4e3102a133b7"
      },
      "outputs": [
        {
          "data": {
            "text/plain": [
              "SalePrice        1.000000\n",
              "LivArea_Qual     0.832057\n",
              "OverallQual      0.790982\n",
              "GrLivArea        0.708624\n",
              "GarageCars       0.640409\n",
              "GarageArea       0.623431\n",
              "TotalBsmtSF      0.613581\n",
              "1stFlrSF         0.605852\n",
              "FullBath         0.560664\n",
              "TotRmsAbvGrd     0.533723\n",
              "YearBuilt        0.522897\n",
              "YearRemodAdd     0.507101\n",
              "GarageYrBlt      0.486362\n",
              "MasVnrArea       0.477493\n",
              "Fireplaces       0.466929\n",
              "BsmtFinSF1       0.386420\n",
              "LotFrontage      0.351799\n",
              "WoodDeckSF       0.324413\n",
              "2ndFlrSF         0.319334\n",
              "OpenPorchSF      0.315856\n",
              "HalfBath         0.284108\n",
              "LotArea          0.263843\n",
              "BsmtFullBath     0.227122\n",
              "BsmtUnfSF        0.214479\n",
              "BedroomAbvGr     0.168213\n",
              "ScreenPorch      0.111447\n",
              "PoolArea         0.092404\n",
              "MoSold           0.046432\n",
              "3SsnPorch        0.044584\n",
              "BsmtFinSF2      -0.011378\n",
              "BsmtHalfBath    -0.016844\n",
              "MiscVal         -0.021190\n",
              "Id              -0.021917\n",
              "LowQualFinSF    -0.025606\n",
              "YrSold          -0.028923\n",
              "OverallCond     -0.077856\n",
              "MSSubClass      -0.084284\n",
              "EnclosedPorch   -0.128578\n",
              "KitchenAbvGr    -0.135907\n",
              "Name: SalePrice, dtype: float64"
            ]
          },
          "execution_count": 37,
          "metadata": {},
          "output_type": "execute_result"
        }
      ],
      "source": [
        "# create new variable - overall quality x above ground living area square feet\n",
        "df_train['LivArea_Qual'] = df_train['OverallQual'] * df_train['GrLivArea']\n",
        "\n",
        "corr = df_train.corr()[\"SalePrice\"]\n",
        "corr[np.argsort(corr, axis=0)[::-1]]"
      ]
    },
    {
      "cell_type": "code",
      "execution_count": null,
      "metadata": {
        "id": "2b0z25xL7g0q",
        "outputId": "8c085e9c-67f0-46eb-d5c1-0792576bd39c"
      },
      "outputs": [
        {
          "data": {
            "text/plain": [
              "count    1460.000000\n",
              "mean      485.715068\n",
              "std       204.292734\n",
              "min        41.000000\n",
              "25%       300.000000\n",
              "50%       476.000000\n",
              "75%       658.000000\n",
              "max      1010.000000\n",
              "Name: Home_Age_Qual, dtype: float64"
            ]
          },
          "execution_count": 64,
          "metadata": {},
          "output_type": "execute_result"
        }
      ],
      "source": [
        "# convert Years column to int, then create new variable - years since remodel x overall quality\n",
        "df_train['YearRemodAdd'] = df_train['YearRemodAdd'].astype(int)\n",
        "df_train['YearBuilt'] = df_train['YearBuilt'].astype(int)\n",
        "\n",
        "\n",
        "num_years = df_train['YrSold'] - df_train['YearRemodAdd']\n",
        "num_years = 100 - num_years\n",
        "df_train['Home_Age_Qual'] = num_years * df_train['OverallQual']\n",
        "\n",
        "# check basic descriptive stats about new feature\n",
        "df_train.Home_Age_Qual.describe()\n"
      ]
    },
    {
      "cell_type": "code",
      "execution_count": null,
      "metadata": {
        "id": "vVWFBowg7g0q",
        "outputId": "b6fb0db6-6f79-460d-8775-ed064d3466f2"
      },
      "outputs": [
        {
          "data": {
            "text/plain": [
              "SalePrice        1.000000\n",
              "LivArea_Qual     0.832057\n",
              "OverallQual      0.790982\n",
              "Home_Age_Qual    0.752034\n",
              "GrLivArea        0.708624\n",
              "GarageCars       0.640409\n",
              "GarageArea       0.623431\n",
              "TotalBsmtSF      0.613581\n",
              "1stFlrSF         0.605852\n",
              "FullBath         0.560664\n",
              "TotRmsAbvGrd     0.533723\n",
              "YearBuilt        0.522897\n",
              "YearRemodAdd     0.507101\n",
              "GarageYrBlt      0.486362\n",
              "MasVnrArea       0.477493\n",
              "Fireplaces       0.466929\n",
              "BsmtFinSF1       0.386420\n",
              "LotFrontage      0.351799\n",
              "WoodDeckSF       0.324413\n",
              "2ndFlrSF         0.319334\n",
              "OpenPorchSF      0.315856\n",
              "HalfBath         0.284108\n",
              "LotArea          0.263843\n",
              "BsmtFullBath     0.227122\n",
              "BsmtUnfSF        0.214479\n",
              "BedroomAbvGr     0.168213\n",
              "ScreenPorch      0.111447\n",
              "PoolArea         0.092404\n",
              "MoSold           0.046432\n",
              "3SsnPorch        0.044584\n",
              "BsmtFinSF2      -0.011378\n",
              "BsmtHalfBath    -0.016844\n",
              "MiscVal         -0.021190\n",
              "Id              -0.021917\n",
              "LowQualFinSF    -0.025606\n",
              "YrSold          -0.028923\n",
              "OverallCond     -0.077856\n",
              "MSSubClass      -0.084284\n",
              "EnclosedPorch   -0.128578\n",
              "KitchenAbvGr    -0.135907\n",
              "Name: SalePrice, dtype: float64"
            ]
          },
          "execution_count": 65,
          "metadata": {},
          "output_type": "execute_result"
        }
      ],
      "source": [
        "# check correlation with new feature\n",
        "corr = df_train.corr()[\"SalePrice\"]\n",
        "corr[np.argsort(corr, axis=0)[::-1]]"
      ]
    },
    {
      "cell_type": "code",
      "execution_count": null,
      "metadata": {
        "id": "lVBUJuKh7g0q",
        "outputId": "4184c1be-8497-4059-cef7-1e669b6e2b4b"
      },
      "outputs": [
        {
          "data": {
            "text/html": [
              "<div>\n",
              "<style scoped>\n",
              "    .dataframe tbody tr th:only-of-type {\n",
              "        vertical-align: middle;\n",
              "    }\n",
              "\n",
              "    .dataframe tbody tr th {\n",
              "        vertical-align: top;\n",
              "    }\n",
              "\n",
              "    .dataframe thead th {\n",
              "        text-align: right;\n",
              "    }\n",
              "</style>\n",
              "<table border=\"1\" class=\"dataframe\">\n",
              "  <thead>\n",
              "    <tr style=\"text-align: right;\">\n",
              "      <th></th>\n",
              "      <th>SalePrice</th>\n",
              "      <th>LivArea_Qual</th>\n",
              "      <th>OverallQual</th>\n",
              "      <th>Home_Age_Qual</th>\n",
              "      <th>GrLivArea</th>\n",
              "      <th>GarageCars</th>\n",
              "      <th>GarageArea</th>\n",
              "      <th>TotalBsmtSF</th>\n",
              "      <th>1stFlrSF</th>\n",
              "    </tr>\n",
              "  </thead>\n",
              "  <tbody>\n",
              "    <tr>\n",
              "      <th>0</th>\n",
              "      <td>208500</td>\n",
              "      <td>11970</td>\n",
              "      <td>7</td>\n",
              "      <td>665</td>\n",
              "      <td>1710</td>\n",
              "      <td>2</td>\n",
              "      <td>548</td>\n",
              "      <td>856</td>\n",
              "      <td>856</td>\n",
              "    </tr>\n",
              "    <tr>\n",
              "      <th>1</th>\n",
              "      <td>181500</td>\n",
              "      <td>7572</td>\n",
              "      <td>6</td>\n",
              "      <td>414</td>\n",
              "      <td>1262</td>\n",
              "      <td>2</td>\n",
              "      <td>460</td>\n",
              "      <td>1262</td>\n",
              "      <td>1262</td>\n",
              "    </tr>\n",
              "    <tr>\n",
              "      <th>2</th>\n",
              "      <td>223500</td>\n",
              "      <td>12502</td>\n",
              "      <td>7</td>\n",
              "      <td>658</td>\n",
              "      <td>1786</td>\n",
              "      <td>2</td>\n",
              "      <td>608</td>\n",
              "      <td>920</td>\n",
              "      <td>920</td>\n",
              "    </tr>\n",
              "    <tr>\n",
              "      <th>3</th>\n",
              "      <td>140000</td>\n",
              "      <td>12019</td>\n",
              "      <td>7</td>\n",
              "      <td>448</td>\n",
              "      <td>1717</td>\n",
              "      <td>3</td>\n",
              "      <td>642</td>\n",
              "      <td>756</td>\n",
              "      <td>961</td>\n",
              "    </tr>\n",
              "    <tr>\n",
              "      <th>4</th>\n",
              "      <td>250000</td>\n",
              "      <td>17584</td>\n",
              "      <td>8</td>\n",
              "      <td>736</td>\n",
              "      <td>2198</td>\n",
              "      <td>3</td>\n",
              "      <td>836</td>\n",
              "      <td>1145</td>\n",
              "      <td>1145</td>\n",
              "    </tr>\n",
              "    <tr>\n",
              "      <th>...</th>\n",
              "      <td>...</td>\n",
              "      <td>...</td>\n",
              "      <td>...</td>\n",
              "      <td>...</td>\n",
              "      <td>...</td>\n",
              "      <td>...</td>\n",
              "      <td>...</td>\n",
              "      <td>...</td>\n",
              "      <td>...</td>\n",
              "    </tr>\n",
              "    <tr>\n",
              "      <th>1455</th>\n",
              "      <td>175000</td>\n",
              "      <td>9882</td>\n",
              "      <td>6</td>\n",
              "      <td>558</td>\n",
              "      <td>1647</td>\n",
              "      <td>2</td>\n",
              "      <td>460</td>\n",
              "      <td>953</td>\n",
              "      <td>953</td>\n",
              "    </tr>\n",
              "    <tr>\n",
              "      <th>1456</th>\n",
              "      <td>210000</td>\n",
              "      <td>12438</td>\n",
              "      <td>6</td>\n",
              "      <td>468</td>\n",
              "      <td>2073</td>\n",
              "      <td>2</td>\n",
              "      <td>500</td>\n",
              "      <td>1542</td>\n",
              "      <td>2073</td>\n",
              "    </tr>\n",
              "    <tr>\n",
              "      <th>1457</th>\n",
              "      <td>266500</td>\n",
              "      <td>16380</td>\n",
              "      <td>7</td>\n",
              "      <td>672</td>\n",
              "      <td>2340</td>\n",
              "      <td>1</td>\n",
              "      <td>252</td>\n",
              "      <td>1152</td>\n",
              "      <td>1188</td>\n",
              "    </tr>\n",
              "    <tr>\n",
              "      <th>1458</th>\n",
              "      <td>142125</td>\n",
              "      <td>5390</td>\n",
              "      <td>5</td>\n",
              "      <td>430</td>\n",
              "      <td>1078</td>\n",
              "      <td>1</td>\n",
              "      <td>240</td>\n",
              "      <td>1078</td>\n",
              "      <td>1078</td>\n",
              "    </tr>\n",
              "    <tr>\n",
              "      <th>1459</th>\n",
              "      <td>147500</td>\n",
              "      <td>6280</td>\n",
              "      <td>5</td>\n",
              "      <td>285</td>\n",
              "      <td>1256</td>\n",
              "      <td>1</td>\n",
              "      <td>276</td>\n",
              "      <td>1256</td>\n",
              "      <td>1256</td>\n",
              "    </tr>\n",
              "  </tbody>\n",
              "</table>\n",
              "<p>1460 rows × 9 columns</p>\n",
              "</div>"
            ],
            "text/plain": [
              "      SalePrice  LivArea_Qual  OverallQual  Home_Age_Qual  GrLivArea  \\\n",
              "0        208500         11970            7            665       1710   \n",
              "1        181500          7572            6            414       1262   \n",
              "2        223500         12502            7            658       1786   \n",
              "3        140000         12019            7            448       1717   \n",
              "4        250000         17584            8            736       2198   \n",
              "...         ...           ...          ...            ...        ...   \n",
              "1455     175000          9882            6            558       1647   \n",
              "1456     210000         12438            6            468       2073   \n",
              "1457     266500         16380            7            672       2340   \n",
              "1458     142125          5390            5            430       1078   \n",
              "1459     147500          6280            5            285       1256   \n",
              "\n",
              "      GarageCars  GarageArea  TotalBsmtSF  1stFlrSF  \n",
              "0              2         548          856       856  \n",
              "1              2         460         1262      1262  \n",
              "2              2         608          920       920  \n",
              "3              3         642          756       961  \n",
              "4              3         836         1145      1145  \n",
              "...          ...         ...          ...       ...  \n",
              "1455           2         460          953       953  \n",
              "1456           2         500         1542      2073  \n",
              "1457           1         252         1152      1188  \n",
              "1458           1         240         1078      1078  \n",
              "1459           1         276         1256      1256  \n",
              "\n",
              "[1460 rows x 9 columns]"
            ]
          },
          "execution_count": 144,
          "metadata": {},
          "output_type": "execute_result"
        }
      ],
      "source": [
        "# create new df of columns with correlation above .6\n",
        "new_df = pd.DataFrame(data=df_train, columns = [\"SalePrice\",\"LivArea_Qual\",\"OverallQual\",\"Home_Age_Qual\",\"GrLivArea\",\"GarageCars\",\"GarageArea\",\"TotalBsmtSF\",\"1stFlrSF\"])\n",
        "new_df"
      ]
    },
    {
      "cell_type": "markdown",
      "source": [
        "# MODELING"
      ],
      "metadata": {
        "id": "KZy0IIuE8gWN"
      }
    },
    {
      "cell_type": "code",
      "execution_count": null,
      "metadata": {
        "id": "eB2NzrJ27g0q"
      },
      "outputs": [],
      "source": [
        "# import libraries and packages for modeling\n",
        "from sklearn.model_selection import KFold\n",
        "from sklearn.model_selection import train_test_split\n",
        "from sklearn.model_selection import cross_val_score\n",
        "from sklearn.linear_model import LinearRegression\n",
        "from sklearn import svm"
      ]
    },
    {
      "cell_type": "code",
      "execution_count": null,
      "metadata": {
        "id": "IEyErN9d7g0r"
      },
      "outputs": [],
      "source": [
        "# prepare the cross validation procedure\n",
        "cv = KFold(n_splits=5)\n",
        "\n",
        "# define predictor and response variables - use all variables in new df\n",
        "x_train = new_df[[\"LivArea_Qual\",\"OverallQual\",\"Home_Age_Qual\",\"GrLivArea\",\"GarageCars\",\"GarageArea\",\"TotalBsmtSF\",\"1stFlrSF\"]]\n",
        "y_train = new_df[\"SalePrice\"]\n"
      ]
    },
    {
      "cell_type": "code",
      "execution_count": null,
      "metadata": {
        "id": "Ixpk1Q4y7g0r",
        "outputId": "0085e72c-a9b5-432d-c950-3daa1fe798d7"
      },
      "outputs": [
        {
          "name": "stdout",
          "output_type": "stream",
          "text": [
            "The RSME for my first model is:  149.81241663557205\n"
          ]
        }
      ],
      "source": [
        "# create the multiple linear regression model\n",
        "model = LinearRegression()\n",
        "\n",
        "# evaluate model\n",
        "scores = cross_val_score(model, x_train, y_train, scoring='neg_mean_absolute_error',cv=cv)\n",
        "scores\n",
        "# view root mean squared error\n",
        "print(\"The RSME for my first model is: \", sqrt(mean(absolute(scores))))"
      ]
    },
    {
      "cell_type": "code",
      "execution_count": null,
      "metadata": {
        "id": "rnwkUnXw7g0r"
      },
      "outputs": [],
      "source": [
        "# define predictor and response variables - use quality related variables\n",
        "x = new_df[[\"LivArea_Qual\",\"OverallQual\",\"Home_Age_Qual\"]]\n",
        "y = new_df[\"SalePrice\"]"
      ]
    },
    {
      "cell_type": "code",
      "execution_count": null,
      "metadata": {
        "id": "tK-wtMCv7g0r",
        "outputId": "dda0e46f-ee7a-40fa-e09d-1ad00b9c9ebb"
      },
      "outputs": [
        {
          "name": "stdout",
          "output_type": "stream",
          "text": [
            "The RSME for my quality model is:  160.6719793693446\n"
          ]
        }
      ],
      "source": [
        "# create the multiple linear regression model for quality input variables\n",
        "quality_model = LinearRegression()\n",
        "\n",
        "# evaluate model\n",
        "scores = cross_val_score(quality_model, x, y, scoring='neg_mean_absolute_error', cv=cv)\n",
        "\n",
        "# view root mean squared error\n",
        "print(\"The RSME for my quality model is: \", sqrt(mean(absolute(scores))))"
      ]
    },
    {
      "cell_type": "code",
      "execution_count": null,
      "metadata": {
        "id": "m0xOwpBZ7g0r"
      },
      "outputs": [],
      "source": [
        "# define predictor and response variables - use size related variables\n",
        "x = new_df[[\"GrLivArea\",\"GarageCars\",\"GarageArea\",\"TotalBsmtSF\",\"1stFlrSF\"]]\n",
        "y = new_df[\"SalePrice\"]"
      ]
    },
    {
      "cell_type": "code",
      "execution_count": null,
      "metadata": {
        "id": "hBlqCSQw7g0r",
        "outputId": "3761541a-783b-4e63-9792-cae9c4e1ab0f"
      },
      "outputs": [
        {
          "name": "stdout",
          "output_type": "stream",
          "text": [
            "The RSME for my size model is:  170.05867298315314\n"
          ]
        }
      ],
      "source": [
        "# create the multiple linear regression model for size input variables\n",
        "size_model = LinearRegression()\n",
        "\n",
        "# evaluate model\n",
        "scores = cross_val_score(size_model, x, y, scoring='neg_mean_absolute_error', cv=cv)\n",
        "scores\n",
        "\n",
        "# view root mean squared error\n",
        "print(\"The RSME for my size model is: \", sqrt(mean(absolute(scores))))"
      ]
    },
    {
      "cell_type": "code",
      "execution_count": null,
      "metadata": {
        "id": "5c9usR4f7g0r"
      },
      "outputs": [],
      "source": [
        "# define predictor and response variables - use size related variables\n",
        "x = new_df[[\"OverallQual\",\"GrLivArea\",\"GarageCars\",\"GarageArea\",\"TotalBsmtSF\",\"1stFlrSF\"]]\n",
        "y = new_df[\"SalePrice\"]"
      ]
    },
    {
      "cell_type": "code",
      "execution_count": null,
      "metadata": {
        "id": "ZhiDA7j87g0s",
        "outputId": "b6919cfa-4ca1-4b58-ee4a-da939827ede7"
      },
      "outputs": [
        {
          "data": {
            "text/plain": [
              "159.49215359775513"
            ]
          },
          "execution_count": 117,
          "metadata": {},
          "output_type": "execute_result"
        }
      ],
      "source": [
        "# create the multiple linear regression model\n",
        "qual_size_model = LinearRegression()\n",
        "\n",
        "# evaluate model\n",
        "scores = cross_val_score(qual_size_model, x, y, scoring='neg_mean_absolute_error', cv=cv)\n",
        "\n",
        "# view root mean squared error\n",
        "sqrt(mean(absolute(scores)))"
      ]
    },
    {
      "cell_type": "code",
      "execution_count": null,
      "metadata": {
        "id": "OtxYuTcd7g0s",
        "outputId": "3c0110c6-82c7-4395-9460-736bccbc42bc"
      },
      "outputs": [
        {
          "name": "stdout",
          "output_type": "stream",
          "text": [
            "<class 'pandas.core.frame.DataFrame'>\n",
            "RangeIndex: 1459 entries, 0 to 1458\n",
            "Data columns (total 80 columns):\n",
            " #   Column         Non-Null Count  Dtype  \n",
            "---  ------         --------------  -----  \n",
            " 0   Id             1459 non-null   int64  \n",
            " 1   MSSubClass     1459 non-null   int64  \n",
            " 2   MSZoning       1455 non-null   object \n",
            " 3   LotFrontage    1232 non-null   float64\n",
            " 4   LotArea        1459 non-null   int64  \n",
            " 5   Street         1459 non-null   object \n",
            " 6   Alley          107 non-null    object \n",
            " 7   LotShape       1459 non-null   object \n",
            " 8   LandContour    1459 non-null   object \n",
            " 9   Utilities      1457 non-null   object \n",
            " 10  LotConfig      1459 non-null   object \n",
            " 11  LandSlope      1459 non-null   object \n",
            " 12  Neighborhood   1459 non-null   object \n",
            " 13  Condition1     1459 non-null   object \n",
            " 14  Condition2     1459 non-null   object \n",
            " 15  BldgType       1459 non-null   object \n",
            " 16  HouseStyle     1459 non-null   object \n",
            " 17  OverallQual    1459 non-null   int64  \n",
            " 18  OverallCond    1459 non-null   int64  \n",
            " 19  YearBuilt      1459 non-null   int64  \n",
            " 20  YearRemodAdd   1459 non-null   int64  \n",
            " 21  RoofStyle      1459 non-null   object \n",
            " 22  RoofMatl       1459 non-null   object \n",
            " 23  Exterior1st    1458 non-null   object \n",
            " 24  Exterior2nd    1458 non-null   object \n",
            " 25  MasVnrType     1443 non-null   object \n",
            " 26  MasVnrArea     1444 non-null   float64\n",
            " 27  ExterQual      1459 non-null   object \n",
            " 28  ExterCond      1459 non-null   object \n",
            " 29  Foundation     1459 non-null   object \n",
            " 30  BsmtQual       1415 non-null   object \n",
            " 31  BsmtCond       1414 non-null   object \n",
            " 32  BsmtExposure   1415 non-null   object \n",
            " 33  BsmtFinType1   1417 non-null   object \n",
            " 34  BsmtFinSF1     1458 non-null   float64\n",
            " 35  BsmtFinType2   1417 non-null   object \n",
            " 36  BsmtFinSF2     1458 non-null   float64\n",
            " 37  BsmtUnfSF      1458 non-null   float64\n",
            " 38  TotalBsmtSF    1458 non-null   float64\n",
            " 39  Heating        1459 non-null   object \n",
            " 40  HeatingQC      1459 non-null   object \n",
            " 41  CentralAir     1459 non-null   object \n",
            " 42  Electrical     1459 non-null   object \n",
            " 43  1stFlrSF       1459 non-null   int64  \n",
            " 44  2ndFlrSF       1459 non-null   int64  \n",
            " 45  LowQualFinSF   1459 non-null   int64  \n",
            " 46  GrLivArea      1459 non-null   int64  \n",
            " 47  BsmtFullBath   1457 non-null   float64\n",
            " 48  BsmtHalfBath   1457 non-null   float64\n",
            " 49  FullBath       1459 non-null   int64  \n",
            " 50  HalfBath       1459 non-null   int64  \n",
            " 51  BedroomAbvGr   1459 non-null   int64  \n",
            " 52  KitchenAbvGr   1459 non-null   int64  \n",
            " 53  KitchenQual    1458 non-null   object \n",
            " 54  TotRmsAbvGrd   1459 non-null   int64  \n",
            " 55  Functional     1457 non-null   object \n",
            " 56  Fireplaces     1459 non-null   int64  \n",
            " 57  FireplaceQu    729 non-null    object \n",
            " 58  GarageType     1383 non-null   object \n",
            " 59  GarageYrBlt    1381 non-null   float64\n",
            " 60  GarageFinish   1381 non-null   object \n",
            " 61  GarageCars     1458 non-null   float64\n",
            " 62  GarageArea     1458 non-null   float64\n",
            " 63  GarageQual     1381 non-null   object \n",
            " 64  GarageCond     1381 non-null   object \n",
            " 65  PavedDrive     1459 non-null   object \n",
            " 66  WoodDeckSF     1459 non-null   int64  \n",
            " 67  OpenPorchSF    1459 non-null   int64  \n",
            " 68  EnclosedPorch  1459 non-null   int64  \n",
            " 69  3SsnPorch      1459 non-null   int64  \n",
            " 70  ScreenPorch    1459 non-null   int64  \n",
            " 71  PoolArea       1459 non-null   int64  \n",
            " 72  PoolQC         3 non-null      object \n",
            " 73  Fence          290 non-null    object \n",
            " 74  MiscFeature    51 non-null     object \n",
            " 75  MiscVal        1459 non-null   int64  \n",
            " 76  MoSold         1459 non-null   int64  \n",
            " 77  YrSold         1459 non-null   int64  \n",
            " 78  SaleType       1458 non-null   object \n",
            " 79  SaleCondition  1459 non-null   object \n",
            "dtypes: float64(11), int64(26), object(43)\n",
            "memory usage: 912.0+ KB\n"
          ]
        }
      ],
      "source": [
        "# read in unseen data from the test set\n",
        "df_test = pd.read_csv(\"test.csv\")\n",
        "\n",
        "df_test.info()"
      ]
    },
    {
      "cell_type": "code",
      "execution_count": null,
      "metadata": {
        "id": "xLN8AhJo7g0s",
        "outputId": "67e1d45d-e0e5-4a61-f0e6-2b09878355df"
      },
      "outputs": [
        {
          "data": {
            "text/plain": [
              "count    1459.000000\n",
              "mean      479.302262\n",
              "std       212.476242\n",
              "min        44.000000\n",
              "25%       286.000000\n",
              "50%       468.000000\n",
              "75%       658.000000\n",
              "max      1020.000000\n",
              "Name: Home_Age_Qual, dtype: float64"
            ]
          },
          "execution_count": 197,
          "metadata": {},
          "output_type": "execute_result"
        }
      ],
      "source": [
        "# create new variable - overall quality x above ground living area square feet\n",
        "df_test['LivArea_Qual'] = df_test['OverallQual'] * df_test['GrLivArea']\n",
        "\n",
        "# convert Years column to int, then create new variable - years since remodel x overall quality\n",
        "df_test['YearRemodAdd'] = df_test['YearRemodAdd'].astype(int)\n",
        "df_test['YearBuilt'] = df_test['YearBuilt'].astype(int)\n",
        "\n",
        "num_years = df_test['YrSold'] - df_test['YearRemodAdd']\n",
        "num_years = 100 - num_years\n",
        "df_test['Home_Age_Qual'] = num_years * df_test['OverallQual']\n",
        "\n",
        "# check basic descriptive stats about new feature\n",
        "df_test.Home_Age_Qual.describe()\n"
      ]
    },
    {
      "cell_type": "code",
      "execution_count": null,
      "metadata": {
        "id": "Ewf31Fov7g0s",
        "outputId": "e7628c40-5fe4-4c27-e296-4e69ced7f336"
      },
      "outputs": [
        {
          "name": "stdout",
          "output_type": "stream",
          "text": [
            "<class 'pandas.core.frame.DataFrame'>\n",
            "RangeIndex: 1459 entries, 0 to 1458\n",
            "Data columns (total 9 columns):\n",
            " #   Column         Non-Null Count  Dtype  \n",
            "---  ------         --------------  -----  \n",
            " 0   Id             1459 non-null   int64  \n",
            " 1   LivArea_Qual   1459 non-null   int64  \n",
            " 2   OverallQual    1459 non-null   int64  \n",
            " 3   Home_Age_Qual  1459 non-null   int64  \n",
            " 4   GrLivArea      1459 non-null   int64  \n",
            " 5   GarageCars     1458 non-null   float64\n",
            " 6   GarageArea     1458 non-null   float64\n",
            " 7   TotalBsmtSF    1458 non-null   float64\n",
            " 8   1stFlrSF       1459 non-null   int64  \n",
            "dtypes: float64(3), int64(6)\n",
            "memory usage: 102.7 KB\n"
          ]
        }
      ],
      "source": [
        "# create new df for features that I use in the model\n",
        "new_df_test = pd.DataFrame(data=df_test, columns = [\"Id\",\"LivArea_Qual\",\"OverallQual\",\"Home_Age_Qual\",\"GrLivArea\",\"GarageCars\",\"GarageArea\",\"TotalBsmtSF\",\"1stFlrSF\"])\n",
        "\n",
        "new_df_test.info()\n"
      ]
    },
    {
      "cell_type": "code",
      "execution_count": null,
      "metadata": {
        "id": "fdrRmEfm7g0s",
        "outputId": "1b313363-33a1-444d-a936-2adf4588a972"
      },
      "outputs": [
        {
          "name": "stdout",
          "output_type": "stream",
          "text": [
            "<class 'pandas.core.frame.DataFrame'>\n",
            "RangeIndex: 1459 entries, 0 to 1458\n",
            "Data columns (total 9 columns):\n",
            " #   Column         Non-Null Count  Dtype  \n",
            "---  ------         --------------  -----  \n",
            " 0   Id             1459 non-null   int64  \n",
            " 1   LivArea_Qual   1459 non-null   int64  \n",
            " 2   OverallQual    1459 non-null   int64  \n",
            " 3   Home_Age_Qual  1459 non-null   int64  \n",
            " 4   GrLivArea      1459 non-null   int64  \n",
            " 5   GarageCars     1459 non-null   float64\n",
            " 6   GarageArea     1459 non-null   float64\n",
            " 7   TotalBsmtSF    1459 non-null   float64\n",
            " 8   1stFlrSF       1459 non-null   int64  \n",
            "dtypes: float64(3), int64(6)\n",
            "memory usage: 102.7 KB\n"
          ]
        }
      ],
      "source": [
        "# replace nan values with mean\n",
        "new_df_test['GarageCars'].fillna(value=new_df_test['GarageCars'].mean(), inplace=True)\n",
        "new_df_test['GarageArea'].fillna(value=new_df_test['GarageArea'].mean(), inplace=True)\n",
        "new_df_test['TotalBsmtSF'].fillna(value=new_df_test['TotalBsmtSF'].mean(), inplace=True)\n",
        "new_df_test.info()"
      ]
    },
    {
      "cell_type": "markdown",
      "source": [
        "# CONCLUSION"
      ],
      "metadata": {
        "id": "aaFGjfTG8rtf"
      }
    },
    {
      "cell_type": "code",
      "execution_count": null,
      "metadata": {
        "id": "U0iLts_v7g0s",
        "outputId": "9ac16265-08ba-4b47-d6f1-7f003348dc28"
      },
      "outputs": [
        {
          "data": {
            "text/html": [
              "<div>\n",
              "<style scoped>\n",
              "    .dataframe tbody tr th:only-of-type {\n",
              "        vertical-align: middle;\n",
              "    }\n",
              "\n",
              "    .dataframe tbody tr th {\n",
              "        vertical-align: top;\n",
              "    }\n",
              "\n",
              "    .dataframe thead th {\n",
              "        text-align: right;\n",
              "    }\n",
              "</style>\n",
              "<table border=\"1\" class=\"dataframe\">\n",
              "  <thead>\n",
              "    <tr style=\"text-align: right;\">\n",
              "      <th></th>\n",
              "      <th>SalePrice</th>\n",
              "    </tr>\n",
              "  </thead>\n",
              "  <tbody>\n",
              "    <tr>\n",
              "      <th>count</th>\n",
              "      <td>1459.000000</td>\n",
              "    </tr>\n",
              "    <tr>\n",
              "      <th>mean</th>\n",
              "      <td>178264.550504</td>\n",
              "    </tr>\n",
              "    <tr>\n",
              "      <th>std</th>\n",
              "      <td>69987.647197</td>\n",
              "    </tr>\n",
              "    <tr>\n",
              "      <th>min</th>\n",
              "      <td>32183.440591</td>\n",
              "    </tr>\n",
              "    <tr>\n",
              "      <th>25%</th>\n",
              "      <td>126605.052723</td>\n",
              "    </tr>\n",
              "    <tr>\n",
              "      <th>50%</th>\n",
              "      <td>164638.647344</td>\n",
              "    </tr>\n",
              "    <tr>\n",
              "      <th>75%</th>\n",
              "      <td>216928.040719</td>\n",
              "    </tr>\n",
              "    <tr>\n",
              "      <th>max</th>\n",
              "      <td>703924.522298</td>\n",
              "    </tr>\n",
              "  </tbody>\n",
              "</table>\n",
              "</div>"
            ],
            "text/plain": [
              "           SalePrice\n",
              "count    1459.000000\n",
              "mean   178264.550504\n",
              "std     69987.647197\n",
              "min     32183.440591\n",
              "25%    126605.052723\n",
              "50%    164638.647344\n",
              "75%    216928.040719\n",
              "max    703924.522298"
            ]
          },
          "execution_count": 219,
          "metadata": {},
          "output_type": "execute_result"
        }
      ],
      "source": [
        "# create x_test for input variables\n",
        "x_test = new_df_test[[\"LivArea_Qual\",\"OverallQual\",\"Home_Age_Qual\",\"GrLivArea\",\"GarageCars\",\"GarageArea\",\"TotalBsmtSF\",\"1stFlrSF\"]]\n",
        "\n",
        "# fit on training data and make predictions on test dataset\n",
        "model.fit(x_train, y_train)\n",
        "price_pred = model.predict(x_test)\n",
        "price_pred = pd.DataFrame(data=price_pred, columns=['SalePrice'])\n",
        "\n",
        "# check descriptive stats for the price predictions\n",
        "price_pred.describe()"
      ]
    },
    {
      "cell_type": "code",
      "execution_count": null,
      "metadata": {
        "id": "IBhoM0m97g0s",
        "outputId": "6f9e1fd0-6ba5-4a09-aa4b-167be61b3da0"
      },
      "outputs": [
        {
          "data": {
            "text/html": [
              "<div>\n",
              "<style scoped>\n",
              "    .dataframe tbody tr th:only-of-type {\n",
              "        vertical-align: middle;\n",
              "    }\n",
              "\n",
              "    .dataframe tbody tr th {\n",
              "        vertical-align: top;\n",
              "    }\n",
              "\n",
              "    .dataframe thead th {\n",
              "        text-align: right;\n",
              "    }\n",
              "</style>\n",
              "<table border=\"1\" class=\"dataframe\">\n",
              "  <thead>\n",
              "    <tr style=\"text-align: right;\">\n",
              "      <th></th>\n",
              "      <th>Id</th>\n",
              "      <th>SalePrice</th>\n",
              "    </tr>\n",
              "  </thead>\n",
              "  <tbody>\n",
              "    <tr>\n",
              "      <th>0</th>\n",
              "      <td>1461</td>\n",
              "      <td>106197.070057</td>\n",
              "    </tr>\n",
              "    <tr>\n",
              "      <th>1</th>\n",
              "      <td>1462</td>\n",
              "      <td>145995.859382</td>\n",
              "    </tr>\n",
              "    <tr>\n",
              "      <th>2</th>\n",
              "      <td>1463</td>\n",
              "      <td>158267.865662</td>\n",
              "    </tr>\n",
              "    <tr>\n",
              "      <th>3</th>\n",
              "      <td>1464</td>\n",
              "      <td>179925.736154</td>\n",
              "    </tr>\n",
              "    <tr>\n",
              "      <th>4</th>\n",
              "      <td>1465</td>\n",
              "      <td>213903.615756</td>\n",
              "    </tr>\n",
              "    <tr>\n",
              "      <th>...</th>\n",
              "      <td>...</td>\n",
              "      <td>...</td>\n",
              "    </tr>\n",
              "    <tr>\n",
              "      <th>1454</th>\n",
              "      <td>2915</td>\n",
              "      <td>72749.924898</td>\n",
              "    </tr>\n",
              "    <tr>\n",
              "      <th>1455</th>\n",
              "      <td>2916</td>\n",
              "      <td>89575.919873</td>\n",
              "    </tr>\n",
              "    <tr>\n",
              "      <th>1456</th>\n",
              "      <td>2917</td>\n",
              "      <td>158314.714470</td>\n",
              "    </tr>\n",
              "    <tr>\n",
              "      <th>1457</th>\n",
              "      <td>2918</td>\n",
              "      <td>106925.634358</td>\n",
              "    </tr>\n",
              "    <tr>\n",
              "      <th>1458</th>\n",
              "      <td>2919</td>\n",
              "      <td>239662.520307</td>\n",
              "    </tr>\n",
              "  </tbody>\n",
              "</table>\n",
              "<p>1459 rows × 2 columns</p>\n",
              "</div>"
            ],
            "text/plain": [
              "        Id      SalePrice\n",
              "0     1461  106197.070057\n",
              "1     1462  145995.859382\n",
              "2     1463  158267.865662\n",
              "3     1464  179925.736154\n",
              "4     1465  213903.615756\n",
              "...    ...            ...\n",
              "1454  2915   72749.924898\n",
              "1455  2916   89575.919873\n",
              "1456  2917  158314.714470\n",
              "1457  2918  106925.634358\n",
              "1458  2919  239662.520307\n",
              "\n",
              "[1459 rows x 2 columns]"
            ]
          },
          "execution_count": 222,
          "metadata": {},
          "output_type": "execute_result"
        }
      ],
      "source": [
        "# create new dataframe with record ID and price prediction\n",
        "data = [new_df_test[\"Id\"], price_pred[\"SalePrice\"]]\n",
        "\n",
        "final_df = pd.concat(data, axis=1)\n",
        "final_df"
      ]
    },
    {
      "cell_type": "code",
      "execution_count": null,
      "metadata": {
        "id": "VUze3Tkc7g0s"
      },
      "outputs": [],
      "source": [
        "# export final df to csv\n",
        "final_df.to_csv('predictions.csv', index=False)"
      ]
    }
  ],
  "metadata": {
    "kernelspec": {
      "display_name": "Python 3",
      "language": "python",
      "name": "python3"
    },
    "language_info": {
      "codemirror_mode": {
        "name": "ipython",
        "version": 3
      },
      "file_extension": ".py",
      "mimetype": "text/x-python",
      "name": "python",
      "nbconvert_exporter": "python",
      "pygments_lexer": "ipython3",
      "version": "3.8.5"
    },
    "colab": {
      "name": "Module 2 Assignment_Berry.ipynb",
      "provenance": [],
      "toc_visible": true,
      "include_colab_link": true
    }
  },
  "nbformat": 4,
  "nbformat_minor": 0
}